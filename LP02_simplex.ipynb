{
 "cells": [
  {
   "cell_type": "markdown",
   "metadata": {
    "id": "btS1bfjiNb7F"
   },
   "source": [
    "# <center>The simplex algorithm</center>\n",
    "### <center>Alfred Galichon (NYU & Sciences Po)</center>\n",
    "## <center>'math+econ+code' masterclass series</center>\n",
    "#### <center>With python code examples</center>\n",
    "© 2018–2023 by Alfred Galichon with contributions by Antoine Jacquet. Past and present support from NSF grant DMS-1716489, ERC grant CoG-866274 are acknowledged, as well as inputs from contributors listed [here](http://www.math-econ-code.org/team).\n",
    "\n",
    "**If you reuse material from this masterclass, please cite as:**<br>\n",
    "Alfred Galichon, 'math+econ+code' masterclass series. https://www.math-econ-code.org/"
   ]
  },
  {
   "cell_type": "markdown",
   "metadata": {
    "id": "NvpCAQSJNb7K"
   },
   "source": [
    "## Linear programming: the simplex algorithm\n",
    "\n",
    "### Learning objectives\n",
    "\n",
    "* The simplex algorithm\n",
    "\n",
    "### References\n",
    "\n",
    "* Vanderbei (1996). *Linear programming.* Springer"
   ]
  },
  {
   "cell_type": "markdown",
   "metadata": {
    "id": "v59RjxfwP1iC"
   },
   "source": [
    "### Principle\n",
    "\n",
    "The simplex algorithm was developed by G. B. Dantzig in 1947 as a way to solve linear programming problems of the canonical form\n",
    "\n",
    "\\begin{align}\n",
    "\\max_{x\\in\\mathbb{R}_{+}^{n}}  & ~ c^{\\top} x \\\\\n",
    "\\text{s.t.} & ~ Ax \\leq b\n",
    "\\end{align}\n",
    "\n",
    "where $c \\in \\mathbb{R}^{n}$, $b \\in \\mathbb{R}^{m}$, and $A$ is a $m\\times n$ matrix.\n",
    "\n",
    "The idea of the algorithm is to start from a simple feasible point called a *basic feasible solution*, and then to iteratively identify directions along which the objective function increases."
   ]
  },
  {
   "cell_type": "markdown",
   "metadata": {
    "id": "XTwuussNv7T4"
   },
   "source": [
    "Let's begin by loading the usual packages."
   ]
  },
  {
   "cell_type": "code",
   "execution_count": 1,
   "metadata": {
    "id": "JyB3iJlIMqBh"
   },
   "outputs": [],
   "source": [
    "#!pip install gurobipy\n",
    "import pandas as pd\n",
    "import numpy as np\n",
    "import scipy.sparse as spr\n",
    "import gurobipy as grb\n",
    "import sympy\n",
    "from sympy.solvers import solve\n",
    "from sympy import *\n",
    "import matplotlib.pyplot as plt\n",
    "\n",
    "def round_expr(expr, num_digits):\n",
    "    return expr.xreplace({n : round(n, num_digits) for n in expr.atoms(Number)})"
   ]
  },
  {
   "cell_type": "markdown",
   "metadata": {
    "id": "tdbclc58UxRW"
   },
   "source": [
    "## The simplex algorithm with an example\n",
    "\n",
    "Consider the linear programming problem:\n",
    "\n",
    "\\begin{align*}\n",
    "\\max_{x_1, x_2 \\geq 0}  & ~ x_1 + x_2 \\\\\n",
    "\\text{s.t.} & ~ 2 x_1 + x_2 \\leq 2 \\\\\n",
    "            & ~ x_1 + 2 x_2 \\leq 2.\n",
    "\\end{align*}\n"
   ]
  },
  {
   "cell_type": "markdown",
   "metadata": {
    "id": "C7g2QwXL8v70"
   },
   "source": [
    "Before even starting the algorithm, we first need to transform this linear program into one in *standard form*, that is, to replace inequality constraints with equality ones. To achieve this, we introduce slack variables $z_i$ to rewrite the problem as\n",
    "\n",
    "\\begin{align*}\n",
    "\\max_{x_1, x_2, z_1, z_2 \\geq 0}  & ~ x_1 + x_2 \\\\\n",
    "\\text{s.t.} & ~ z_1 = 2 - 2 x_1 - x_2 \\\\\n",
    "            & ~ z_2 = 2 - x_1 - 2 x_2 .\n",
    "\\end{align*}\n",
    "\n",
    "The variables $z_i$ are called *basic variables*, and the variables $x_j$ are called *nonbasic variables*.\n",
    "\n",
    "Linear programming problems in this standard form can be summarized by a structure called a *tableau*. We begin by defining a `Tableau` class in Python to handle this type of data.  The expressions of the objective and of the basic variables as a function of the nonbasic ones are encoded into a *dictionary*:"
   ]
  },
  {
   "cell_type": "code",
   "execution_count": 2,
   "metadata": {
    "id": "0XnmgEk58vB5"
   },
   "outputs": [],
   "source": [
    "class Tableau():\n",
    "    def __init__(self, names_basic, names_nonbasic, A_i_j, b_i, c_j): # z = d - A @ x\n",
    "        self.A_i_j,self.b_i,self.c_j = A_i_j,b_i,c_j\n",
    "        self.nonbasic = list(symbols(names_nonbasic))\n",
    "        self.base = { Symbol('obj') : c_j @ self.nonbasic }\n",
    "        self.base.update( { list(symbols(names_basic))[i]: b_i[i]  - (A_i_j @ self.nonbasic)[i] for i in range(len(b_i))} )\n",
    "\n",
    "    def variables(self):\n",
    "        return( list(self.base.keys())[1:] + self.nonbasic)\n",
    "\n",
    "    def display(self):\n",
    "        print('-------------------------- \\nObjective and constraints:')\n",
    "        for i in self.base:\n",
    "            print(i,' = ' ,round_expr(self.base[i],2))"
   ]
  },
  {
   "cell_type": "markdown",
   "metadata": {
    "id": "W_8CJG1l8t7u"
   },
   "source": [
    "We then define the tableau corresponding to our example."
   ]
  },
  {
   "cell_type": "code",
   "execution_count": 3,
   "metadata": {
    "colab": {
     "base_uri": "https://localhost:8080/"
    },
    "id": "Bk4oGpt69TI9",
    "outputId": "56c0d9a9-d705-40df-bbbe-f307359f1a85"
   },
   "outputs": [
    {
     "name": "stdout",
     "output_type": "stream",
     "text": [
      "-------------------------- \n",
      "Objective and constraints:\n",
      "obj  =  x_1 + x_2\n",
      "z_1  =  -2*x_1 - x_2 + 2\n",
      "z_2  =  -x_1 - 2*x_2 + 2\n"
     ]
    }
   ],
   "source": [
    "example_tableau = Tableau(names_basic = ['z_1', 'z_2'],\n",
    "                          names_nonbasic = ['x_1', 'x_2'],\n",
    "                          A_i_j = np.array([[2, 1], [1, 2]]),\n",
    "                          b_i = [2,2],\n",
    "                          c_j = np.array([1,1]))\n",
    "\n",
    "example_tableau.display()"
   ]
  },
  {
   "cell_type": "markdown",
   "metadata": {
    "id": "18VVg1KnOgp5"
   },
   "source": [
    "### Description of the algorithm\n",
    "\n",
    "Let's take a step-by-step approach to understand the simplex algorithm.\n",
    "Along the way, we will also code these steps.\n",
    "\n",
    "#### **Step 1: Initialize.**\n",
    "Our first step is to establish a (feasible) starting point. There is an obvious one which consists in setting $x_1 = x_2 = 0$ and $z_1 = 2$, $z_2 = 2$. This starting point is called a *basic feasible solution* because it is zero outside of the basic variables. The value of the objective at this solution is $0$.\n",
    "\n",
    "We create a method which computes the basic feasible solution associated with a tableau, as well as the value of the objective at this solution."
   ]
  },
  {
   "cell_type": "code",
   "execution_count": 4,
   "metadata": {
    "colab": {
     "base_uri": "https://localhost:8080/"
    },
    "id": "CzIHclYOOgp6",
    "outputId": "595ce79d-8b88-40c7-87b7-9f107414c563"
   },
   "outputs": [
    {
     "name": "stdout",
     "output_type": "stream",
     "text": [
      "obj = 0.0\n",
      "z_1 = 2.0\n",
      "z_2 = 2.0\n"
     ]
    }
   ],
   "source": [
    "def Tableau_solution(self, verbose=0):\n",
    "    solution = {}\n",
    "    for var in self.base:\n",
    "        solution[var] = float(self.base[var].subs([(variable,0) for variable in self.nonbasic]))\n",
    "        if verbose > 0: print(str(var) + ' = ' + str(solution[var]))\n",
    "    for var in self.nonbasic:\n",
    "        solution[var] = 0.0\n",
    "        if verbose > 1: print(str(var) + ' = ' + str(solution[var]))\n",
    "    return solution\n",
    "\n",
    "Tableau.solution = Tableau_solution\n",
    "\n",
    "current_solution = example_tableau.solution(verbose=1)"
   ]
  },
  {
   "cell_type": "markdown",
   "metadata": {
    "id": "A9AV61IMOgp6"
   },
   "source": [
    "We plot the feasible region and our initial solution using:\n"
   ]
  },
  {
   "cell_type": "code",
   "execution_count": 5,
   "metadata": {
    "colab": {
     "base_uri": "https://localhost:8080/",
     "height": 436
    },
    "id": "iR-D9joP6NXb",
    "outputId": "bc371114-3b54-477e-aadc-66e1b2ded3fb"
   },
   "outputs": [
    {
     "data": {
      "image/png": "[encoded data removed]",
      "text/plain": [
       "<Figure size 360x360 with 1 Axes>"
      ]
     },
     "metadata": {
      "needs_background": "light"
     },
     "output_type": "display_data"
    }
   ],
   "source": [
    "def Tableau_plot_path_so_far(self, the_path, legend=True):\n",
    "    if self.A_i_j.shape[1] != 2:\n",
    "        print('Can\\'t plot the solution in 2D, the number of primal variables differs from two.')\n",
    "        return()\n",
    "\n",
    "    x1max = min(x for x in self.b_i / self.A_i_j[:,0] if x >= 0)\n",
    "    x2max = min(x for x in self.b_i / self.A_i_j[:,1] if x >= 0)\n",
    "    x1, x2 = np.meshgrid(np.linspace(-.2*x1max, 1.4*x1max, 400), np.linspace(-.2*x2max, 1.4*x2max, 400))\n",
    "    feasible_region = (x1 >= 0) & (x2 >= 0)\n",
    "    for i in range(len(self.b_i)) :\n",
    "        feasible_region = feasible_region & (self.A_i_j[i,0] * x1 + self.A_i_j[i,1] * x2 <= self.b_i[i])\n",
    "    fig, ax = plt.subplots(figsize=(5, 5))\n",
    "    plt.contourf(x1, x2, np.where(feasible_region, self.c_j[0]*x1+self.c_j[1]*x2, np.nan), 50, alpha = 0.5, cmap='gray_r', levels=30)\n",
    "    for i in range(len(self.b_i)):\n",
    "        if not self.A_i_j[i,1] == 0:\n",
    "            ax.plot(x1[0, :], self.b_i[i]/self.A_i_j[i,1] - self.A_i_j[i,0]/self.A_i_j[i,1]*x1[0, :], label='z'+str(i+1)+' = 0')\n",
    "        else:\n",
    "            ax.axvline(self.b_i[i]/self.A_i_j[i,0], label='z'+str(i+1)+' = 0')\n",
    "    ax.plot([a for (a,_) in the_path], [b for (_,b) in the_path], 'r--', label='Algorithm path')\n",
    "    ax.scatter([a for (a,_) in the_path], [b for (_,b) in the_path], color='red')\n",
    "    ax.set_xlim(-.2*x1max, 1.4*x1max), ax.set_ylim(-.2*x2max, 1.4*x2max)\n",
    "    ax.set_xlabel('x1'), ax.set_ylabel('x2')\n",
    "    ax.spines[ 'left' ].set_position('zero'), ax.spines['bottom'].set_position('zero')\n",
    "    ax.spines['right'].set_color('none'), ax.spines['top'].set_color('none')\n",
    "    if legend: ax.legend(loc='upper right')\n",
    "    plt.show()\n",
    "\n",
    "Tableau.plot_path_so_far = Tableau_plot_path_so_far\n",
    "\n",
    "the_path_so_far = [(current_solution[symbols('x_1')], current_solution[symbols('x_2')])]\n",
    "example_tableau.plot_path_so_far(the_path_so_far)"
   ]
  },
  {
   "cell_type": "markdown",
   "metadata": {
    "id": "in7Rbjge88k7"
   },
   "source": [
    "#### **Step 2: Entering variable.**\n",
    "We want to select a nonbasic variable in order to increase our objective. This variable is called *entering variable*. Any nonbasic variable whose coefficient in the objective is therefore a potential entering variable.\n",
    "\n",
    "There are several ways to choose the entering variable. One possibility is to choose the variable that has the highest coefficient in the objective.\n",
    "\n",
    "Another method is to follow *Bland's rule*, i.e. to select the first variable (in the alphabetical order) which has a positive coefficient in the objective. This method is the safest as it prevents the algorithm from cycling in some pathological cases, and therefore we will implement it here.\n",
    "\n",
    "Recall that the objective in our example is $x_1 + x_2$, and therefore Bland's rule selects $x_1$ as the entering variable."
   ]
  },
  {
   "cell_type": "code",
   "execution_count": 6,
   "metadata": {
    "colab": {
     "base_uri": "https://localhost:8080/",
     "height": 38
    },
    "id": "0r30XChw1OaL",
    "outputId": "c8f56e1f-5717-4431-d663-9530f97d7a1a"
   },
   "outputs": [
    {
     "data": {
      "text/latex": [
       "$\\displaystyle x_{1}$"
      ],
      "text/plain": [
       "x_1"
      ]
     },
     "execution_count": 6,
     "metadata": {},
     "output_type": "execute_result"
    }
   ],
   "source": [
    "def Tableau_determine_entering(self):\n",
    "    self.nonbasic.sort(key=str) # Bland's rule\n",
    "    for entering_var in self.nonbasic:\n",
    "        if diff(self.base[Symbol('obj')],entering_var)>0 :\n",
    "            return entering_var\n",
    "    return None # If no entering variable found, None returned\n",
    "\n",
    "Tableau.determine_entering = Tableau_determine_entering\n",
    "\n",
    "entering_var = example_tableau.determine_entering()\n",
    "entering_var"
   ]
  },
  {
   "cell_type": "markdown",
   "metadata": {
    "id": "INYg4--r1I3j"
   },
   "source": [
    "#### **Step 3: Departing variable.**\n",
    "When $x_1$ enters, we will increase $x_1$ until we hit one of the constraints $z_i \\geq 0$. Recall:\n",
    "\n",
    "\\begin{align*}\n",
    "z_1 &= 2 - 2 x_1 - x_2 \\\\\n",
    "z_2 &= 2 - x_1 - 2 x_2.\n",
    "\\end{align*}\n",
    "\n",
    "Note that we keep $x_2=0$ along the way. Here it is the constraint $z_1 \\geq 0$ which will hit first (for $x_1 = 1$). Therefore we choose $z_1$ as our *departing variable*.\n",
    "\n",
    "In general, if $j^\\star$ is the entering variable, the formula for determining the departing variable is\n",
    "\n",
    "$i^\\star = \\arg\\min_{\\, i} \\left\\{ \\frac {b_i} {A_{i \\, j^\\star}} : A_{i \\, j^\\star} > 0  \\right\\}$.\n",
    "\n",
    "We code this into:"
   ]
  },
  {
   "cell_type": "code",
   "execution_count": 7,
   "metadata": {
    "colab": {
     "base_uri": "https://localhost:8080/",
     "height": 38
    },
    "id": "g2oygb0o6JEd",
    "outputId": "da98dd74-5c22-40c0-9699-c26cda27de27"
   },
   "outputs": [
    {
     "data": {
      "text/latex": [
       "$\\displaystyle z_{1}$"
      ],
      "text/plain": [
       "z_1"
      ]
     },
     "execution_count": 7,
     "metadata": {},
     "output_type": "execute_result"
    }
   ],
   "source": [
    "def Tableau_determine_departing(self,entering_var):\n",
    "  runmin = float('inf')\n",
    "  departing_var = None\n",
    "  for var in self.base.keys() - {Symbol('obj')}:\n",
    "        the_expr_list = solve(self.base[var] - var,entering_var)\n",
    "        if the_expr_list: # if one can invert the previous expression\n",
    "            the_expr = the_expr_list[0] # express entering variable as a function of the other ones:\n",
    "            val_entering_var = the_expr.subs([ (variable,0) for variable in [var]+self.nonbasic])\n",
    "            if (val_entering_var >= 0) & (val_entering_var < runmin) :\n",
    "              runmin,departing_var = val_entering_var, var\n",
    "  return departing_var # if no variable is found, None returned\n",
    "\n",
    "Tableau.determine_departing = Tableau_determine_departing\n",
    "\n",
    "departing_var = example_tableau.determine_departing(entering_var)\n",
    "departing_var"
   ]
  },
  {
   "cell_type": "markdown",
   "metadata": {
    "id": "3ZmiyS9e6KgT"
   },
   "source": [
    "#### **Step 4: Updating.**\n",
    "We reformulate our problem with our new basis $(x_1, z_2)$. We use the constraint associated with our departing variable $z_1$ as a pivot to eliminate the entering variable $x_1$ from the other equalities:\n",
    "\n",
    "\\begin{matrix}\n",
    "&\\tfrac{1}{2}z_1  &       &~+ x_1 &+~ \\tfrac{1}{2} x_2 &= 1 \\\\\n",
    "&-\\tfrac{1}{2}z_1 &+~ z_2 &       &+~ \\tfrac{3}{2} x_2 &= 1\n",
    "\\end{matrix}\n",
    "\n",
    "and we rewrite the objective as a function of the new nonbasic variables:\n",
    "\n",
    "\\begin{align*}\n",
    "x_1 + x_2\n",
    "&= \\left(1 - \\tfrac{1}{2}z_1 - \\tfrac{1}{2}x_2\\right) + x_2 \\\\\n",
    "&= 1 + \\tfrac{1}{2}x_2 - \\tfrac{1}{2}z_1.\n",
    "\\end{align*}\n",
    "\n",
    "In general, once the entering variable $j^\\star$ and the departing variable $i^\\star$ have been determined, we need to update our set of nonbasic variables by removing $i^\\star$ from it and adding $j^\\star$. We also need to update our dictionary with the expression of our entering variable,\n",
    "\n",
    "$x_{j^\\star}\n",
    "= \\frac {b_{i^\\star}} {A_{i^\\star j^\\star}}\n",
    "- \\sum_{j \\neq j^\\star} \\frac {A_{i^\\star j}} {A_{i^\\star j^\\star}} x_j\n",
    "- \\frac {z_{i^\\star}} {A_{i^\\star j^\\star}}$\n",
    "\n",
    "and substituting out this expression in\n",
    "\n",
    "$z_i = b_i - \\sum_j A_{ij} x_j, \\quad i \\neq i^\\star$\n",
    "\n",
    "yields the expression of the new basic variables as a function of the new nonbasic variables."
   ]
  },
  {
   "cell_type": "code",
   "execution_count": 8,
   "metadata": {
    "colab": {
     "base_uri": "https://localhost:8080/"
    },
    "id": "S6p_H4Vg8j8c",
    "outputId": "9529dd65-5592-43d8-bbb1-73d0c15d0f55"
   },
   "outputs": [
    {
     "name": "stdout",
     "output_type": "stream",
     "text": [
      "Entering = x_1; departing = z_1\n",
      "x_1 = -0.5*x_2 - 0.5*z_1 + 1\n",
      "-------------------------- \n",
      "Objective and constraints:\n",
      "obj  =  0.5*x_2 - 0.5*z_1 + 1\n",
      "z_2  =  -1.5*x_2 + 0.5*z_1 + 1\n",
      "x_1  =  -0.5*x_2 - 0.5*z_1 + 1\n"
     ]
    }
   ],
   "source": [
    "def Tableau_pivot(self,entering_var,departing_var, verbose = 0):\n",
    "    expr_entering = solve(self.base[departing_var] - departing_var,entering_var)[0]\n",
    "    for var in self.base:\n",
    "        self.base[var] = self.base[var].subs([(entering_var, expr_entering)])\n",
    "    self.base[entering_var] = expr_entering\n",
    "    del self.base[departing_var]\n",
    "    self.nonbasic.remove(entering_var)\n",
    "    self.nonbasic.append(departing_var)\n",
    "    if verbose > 0:\n",
    "        print('Entering = ' + str( entering_var)+'; departing = '+ str( departing_var))\n",
    "    if verbose > 1:\n",
    "        print(str( entering_var)+' = '+str(round_expr(expr_entering,2)))\n",
    "    return expr_entering\n",
    "\n",
    "Tableau.pivot = Tableau_pivot\n",
    "\n",
    "expr_entering_var = example_tableau.pivot(entering_var,departing_var,verbose = 2)\n",
    "\n",
    "example_tableau.display()"
   ]
  },
  {
   "cell_type": "markdown",
   "metadata": {
    "id": "-iyU4tinYg75"
   },
   "source": [
    "This completes one iteration of the algorithm."
   ]
  },
  {
   "cell_type": "markdown",
   "metadata": {
    "id": "XjDwx93pq43z"
   },
   "source": [
    "### Iterating\n",
    "\n",
    "The transformed program is now:\n",
    "\n",
    "\\begin{align*}\n",
    "\\max_{x_1, x_2, z_1, z_2 \\geq 0}  & ~ 1 + \\tfrac{1}{2}x_2 - \\tfrac{1}{2}z_1 \\\\\n",
    "\\text{s.t.} & ~ x_1 = 1 - \\tfrac{1}{2} x_2 - \\tfrac{1}{2} z_1 \\\\\n",
    "            & ~ z_2 = 1 - \\tfrac{3}{2} x_2 + \\tfrac{1}{2}z_1 .\n",
    "\\end{align*}\n",
    "\n",
    "Our new basic feasible solution is $x_2 = z_1 = 0$ (nonbasic variables) and $x_1 = 1$, $z_2 = 1$ (basic variables). The value of the objective is $1$.\n"
   ]
  },
  {
   "cell_type": "markdown",
   "metadata": {
    "id": "AqFmiHtWDxBW"
   },
   "source": [
    "\n",
    "Let's look at the path that the algorithm took using the graph."
   ]
  },
  {
   "cell_type": "code",
   "execution_count": 9,
   "metadata": {
    "colab": {
     "base_uri": "https://localhost:8080/",
     "height": 521
    },
    "id": "DbPvkDxRYq8G",
    "outputId": "5ae203b0-6a00-43e2-aecb-eab90747804e"
   },
   "outputs": [
    {
     "name": "stdout",
     "output_type": "stream",
     "text": [
      "obj = 1.0\n",
      "z_2 = 1.0\n",
      "x_1 = 1.0\n",
      "x_2 = 0.0\n",
      "z_1 = 0.0\n"
     ]
    },
    {
     "data": {
      "image/png": "[encoded data removed]",
      "text/plain": [
       "<Figure size 360x360 with 1 Axes>"
      ]
     },
     "metadata": {
      "needs_background": "light"
     },
     "output_type": "display_data"
    }
   ],
   "source": [
    "current_solution = example_tableau.solution(verbose=2)\n",
    "the_path_so_far.append((current_solution[symbols('x_1')], current_solution[symbols('x_2')]))\n",
    "example_tableau.plot_path_so_far(the_path_so_far)"
   ]
  },
  {
   "cell_type": "markdown",
   "metadata": {
    "id": "IYLPRwSB9dx0"
   },
   "source": [
    "We can now repeat the process on the new program. Since the coefficient of $x_2$ in our new objective is positive, we now choose $x_2$ as an entering variable. In that case, the constraint associated with the basic variable $z_2$ will hit first, so $z_2$ will be our departing variable.\n",
    "\n",
    "The pivot operation yields\n",
    "\n",
    "\\begin{matrix}\n",
    "&\\tfrac{2}{3}z_1  &-~ \\tfrac{1}{3} z_2       &~+ x_1 & &= \\tfrac{2}{3} \\\\\n",
    "&-\\tfrac{1}{3}z_1 &+~ \\tfrac{2}{3} z_2 &       &+~ x_2 &= \\tfrac{2}{3}\n",
    "\\end{matrix}\n",
    "\n",
    "and the new objective is\n",
    "\n",
    "\\begin{align*}\n",
    "1 + \\tfrac{1}{2}x_2 - \\tfrac{1}{2}z_1\n",
    "&= 1 + \\tfrac{1}{2}\\left(\\tfrac{2}{3} + \\tfrac{1}{3}z_1 - \\tfrac{2}{3}z_2\\right) - \\tfrac{1}{2}z_1 \\\\\n",
    "&= \\tfrac{4}{3} - \\tfrac{1}{3}z_1 - \\tfrac{1}{3}z_2.\n",
    "\\end{align*}\n",
    "\n",
    "We encode this second iteration as:"
   ]
  },
  {
   "cell_type": "code",
   "execution_count": 10,
   "metadata": {
    "colab": {
     "base_uri": "https://localhost:8080/",
     "height": 555
    },
    "id": "-RwTfmmlhcFh",
    "outputId": "369478bb-d1e9-4a32-a583-fbbab26426cc"
   },
   "outputs": [
    {
     "name": "stdout",
     "output_type": "stream",
     "text": [
      "Entering = x_2; departing = z_2\n",
      "x_2 = 0.33*z_1 - 0.67*z_2 + 0.67\n",
      "obj = 1.3333333333333333\n",
      "x_1 = 0.6666666666666666\n",
      "x_2 = 0.6666666666666666\n",
      "z_1 = 0.0\n",
      "z_2 = 0.0\n"
     ]
    },
    {
     "data": {
      "image/png": "[encoded data removed]",
      "text/plain": [
       "<Figure size 360x360 with 1 Axes>"
      ]
     },
     "metadata": {
      "needs_background": "light"
     },
     "output_type": "display_data"
    }
   ],
   "source": [
    "entering_var = example_tableau.determine_entering()\n",
    "departing_var = example_tableau.determine_departing(entering_var)\n",
    "example_tableau.pivot(entering_var, departing_var, verbose=2)\n",
    "\n",
    "current_solution = example_tableau.solution(verbose=2)\n",
    "the_path_so_far.append((current_solution[symbols('x_1')], current_solution[symbols('x_2')]))\n",
    "example_tableau.plot_path_so_far(the_path_so_far)"
   ]
  },
  {
   "cell_type": "markdown",
   "metadata": {
    "id": "q_5eppZSiMXF"
   },
   "source": [
    "Our new basic feasible solution is $z_1 = z_2 = 0$ (nonbasic variables) and $x_1 = \\tfrac{2}{3}$, $x_2 = \\tfrac{2}{3}$ (basic variables). But because the coefficients of the nonbasic variables in the objective are negative, we cannot increase it anymore: the algorithm stops.\n",
    "\n",
    "We verify this with our code, as there is no entering variable anymore."
   ]
  },
  {
   "cell_type": "code",
   "execution_count": 11,
   "metadata": {
    "colab": {
     "base_uri": "https://localhost:8080/"
    },
    "id": "yNS_h09LiFj5",
    "outputId": "084442c3-4bbc-4abb-e3ec-1569ee819931"
   },
   "outputs": [
    {
     "name": "stdout",
     "output_type": "stream",
     "text": [
      "None\n"
     ]
    }
   ],
   "source": [
    "print(example_tableau.determine_entering())"
   ]
  },
  {
   "cell_type": "markdown",
   "metadata": {
    "id": "ON3ZsdVrlASD"
   },
   "source": [
    "The value of the initial problem is thus $\\tfrac{4}{3}$, and the optimal solution is\n",
    "\n",
    "\\begin{equation}\n",
    "  x_1^* = x_2^* = \\tfrac{2}{3}.\n",
    "\\end{equation}"
   ]
  },
  {
   "cell_type": "markdown",
   "metadata": {
    "id": "od8jJs_t9-Pl"
   },
   "source": [
    "### Geometric interpretation\n",
    "\n",
    "The simplex algorithm has a simple geometric interpretation.\n",
    "\n",
    "The feasible set of the linear programming problem, delimited by its constraints, forms a polygon in $\\mathbb R^2$ (a polyhedron in $\\mathbb R^3$, etc.).\n",
    "\n",
    "We start from one of the corners of this polygon. At each iteration of the algorithm, we move along the edge of the polygon to a neighboring corner, always moving in the direction that most increases the value of the objective function. When it reaches the corner with the highest possible value of the objective function, the algorithm stops, and we have our solution.\n",
    "\n",
    "The simplex algorithm must stop eventually since there are a limited number of corners. Furthermore, it can be shown that if a corner isn't a maximum, then there must be an adjoining edge leading to a higher value of the objective function. This guarantees that the end point of the algorithm is indeed an optimal solution."
   ]
  },
  {
   "cell_type": "markdown",
   "metadata": {
    "id": "RQiP_qF-Btrb"
   },
   "source": [
    "## Second example\n",
    "\n",
    "Consider a slightly more complex example:\n",
    "\n",
    "\\begin{align*}\n",
    "\\max_{x_1, x_2 \\geq 0}  & ~ 3 x_1 + 2 x_2 \\\\\n",
    "\\text{s.t.} & ~ \\cos\\left(\\tfrac{k}{K}\\tfrac{\\pi}{2}\\right) x_1 + \\sin\\left(\\tfrac{k}{K}\\tfrac{\\pi}{2}\\right) x_2 \\leq 1, \\quad k = 0, \\dots, K.\n",
    "\\end{align*}\n",
    "\n",
    "The constraints actually correspond to $K+1$ tangents to the circle of equation $x_1^2 + x_2^2 = 1$. Therefore, it is as if we were approximating the nonlinear constraint $x_1^2 + x_2^2 \\leq 1$."
   ]
  },
  {
   "cell_type": "code",
   "execution_count": 12,
   "metadata": {
    "colab": {
     "base_uri": "https://localhost:8080/",
     "height": 895
    },
    "id": "KgQK6cAhBver",
    "outputId": "b10be6b8-ab4e-4f02-c86b-fb090db70e85"
   },
   "outputs": [
    {
     "name": "stdout",
     "output_type": "stream",
     "text": [
      "Entering = x_1; departing = z_0\n",
      "Entering = x_2; departing = z_1\n",
      "Entering = z_0; departing = z_2\n",
      "Entering = z_1; departing = z_3\n",
      "Entering = z_2; departing = z_4\n",
      "Optimal solution found.\n",
      "=======================\n",
      "obj = 3.614058558900192\n",
      "z_5 = 0.02462331880972555\n",
      "z_6 = 0.07326364859996945\n",
      "z_7 = 0.14472330302329706\n",
      "z_8 = 0.23724270822681015\n",
      "z_9 = 0.3485437294000968\n",
      "z_10 = 0.47588576601495897\n",
      "x_1 = 0.8552766969767034\n",
      "x_2 = 0.5241142339850411\n",
      "z_0 = 0.14472330302329667\n",
      "z_1 = 0.07326364859996902\n",
      "z_2 = 0.0246233188097251\n",
      "z_3 = 0.0\n",
      "z_4 = 0.0\n",
      "\n",
      "Value = 3.61405855890019\n"
     ]
    },
    {
     "name": "stderr",
     "output_type": "stream",
     "text": [
      "C:\\Users\\alfre\\AppData\\Local\\Temp\\ipykernel_18356\\3480862293.py:6: RuntimeWarning: divide by zero encountered in true_divide\n",
      "  x1max = min(x for x in self.b_i / self.A_i_j[:,0] if x >= 0)\n",
      "C:\\Users\\alfre\\AppData\\Local\\Temp\\ipykernel_18356\\3480862293.py:7: RuntimeWarning: divide by zero encountered in true_divide\n",
      "  x2max = min(x for x in self.b_i / self.A_i_j[:,1] if x >= 0)\n"
     ]
    },
    {
     "data": {
      "image/png": "[encoded data removed]",
      "text/plain": [
       "<Figure size 360x360 with 1 Axes>"
      ]
     },
     "metadata": {
      "needs_background": "light"
     },
     "output_type": "display_data"
    }
   ],
   "source": [
    "K = 10\n",
    "\n",
    "example_tableau2 = Tableau(names_basic = ['z_'+str(k) for k in range(0,K+1)],\n",
    "                           names_nonbasic = ['x_1', 'x_2'],\n",
    "                           A_i_j = np.array([(float(cos(k/K*pi/2)), float(sin(k/K*pi/2))) for k in range(0, K+1)]),\n",
    "                           b_i = np.ones(K+1),\n",
    "                           c_j = np.array([3,2]))\n",
    "\n",
    "def simplex_loop(self):\n",
    "    entering_var = self.determine_entering()\n",
    "    if entering_var is None:\n",
    "        print('Optimal solution found.\\n=======================')\n",
    "        self.solution(verbose=2)\n",
    "    else:\n",
    "        departing_var = self.determine_departing(entering_var)\n",
    "        if departing_var is None:\n",
    "            print('Unbounded solution.')\n",
    "        else:\n",
    "            expr_entering_var = self.pivot(entering_var,departing_var, verbose=1)\n",
    "            return False # not finished\n",
    "    return True # finished\n",
    "\n",
    "finished = False\n",
    "the_path_so_far = [(example_tableau2.solution()[symbols('x_1')], example_tableau2.solution()[symbols('x_2')])]\n",
    "while not finished:\n",
    "  finished = simplex_loop(example_tableau2)\n",
    "  the_path_so_far.append((example_tableau2.solution()[symbols('x_1')], example_tableau2.solution()[symbols('x_2')]))\n",
    "\n",
    "print('\\nValue = '+str(example_tableau2.base[Symbol('obj')].subs([ (variable,0) for variable in example_tableau2.nonbasic])))\n",
    "\n",
    "example_tableau2.plot_path_so_far(the_path_so_far, legend=False)"
   ]
  },
  {
   "cell_type": "markdown",
   "metadata": {
    "id": "F82rdD4vCgU9"
   },
   "source": [
    "Our algorithm still works! However you can check that it becomes quite slow for higher values of $K$."
   ]
  },
  {
   "cell_type": "markdown",
   "metadata": {
    "id": "dEg6YXOkNb7N"
   },
   "source": [
    "\n",
    "## Application to the diet problem\n",
    "\n",
    "Recall the diet problem:\n",
    "\n",
    "* Assume there are nutrients $i \\in \\{1,\\dots,I\\}$ (calories, protein, calcium, iron, etc.) that matter for a person's health, in such way that the minimum daily intake of nutrient $i$ should be $d_{i}$.\n",
    "\n",
    "* Nutrients do not come as standalone elements, but are combined into various foods. One dollar worth of food $j \\in \\{1,\\dots,J\\}$ yields a quantity $N_{ij}$ of nutrient $i \\in \\{1,\\dots,I\\}$.\n",
    "\n",
    "The problem is to find the diet that achieves the minimal intake of each nutrient for the cheapest price. If $q\\in\\mathbb{R}^{J}$ is a vector such that $q_{j}\\geq0$ is the quantity of food $j$ purchased, the quantity of nutrient $i$ ingested is $\\sum_{j=1}^{J}N_{ij}q_{j}$, and the cost of the diet is $\\sum_{j=1}^{J}q_{j}$. Letting $c_j = 1$ for all $j \\in \\{1,\\dots,n\\}$, the optimal diet is therefore given by\n",
    "\n",
    "\\begin{align*}\n",
    "\\min_{q\\geq 0} & ~ c^{\\top}q \\\\\n",
    "\\text{s.t.} & ~ Nq \\geq d\n",
    "\\end{align*}\n",
    "\n",
    "which has dual\n",
    "\n",
    "\\begin{align*}\n",
    "\\max_{\\pi\\geq0} & ~ d^{\\top}\\pi \\\\\n",
    "\\text{s.t.} & ~ N^{\\top}\\pi \\leq c.\n",
    "\\end{align*}"
   ]
  },
  {
   "cell_type": "markdown",
   "metadata": {
    "id": "hyCMGHTnNb7O"
   },
   "source": [
    "We load the data using:"
   ]
  },
  {
   "cell_type": "code",
   "execution_count": 13,
   "metadata": {
    "id": "CDcxAkpDNb7O"
   },
   "outputs": [],
   "source": [
    "thepath = 'https://raw.githubusercontent.com/math-econ-code/mec_optim_2021-01/master/data_mec_optim/lp_stigler-diet/'\n",
    "filename = 'StiglerData1939.txt'\n",
    "thedata = pd.read_csv(thepath + filename, sep='\\t')\n",
    "thedata = thedata.dropna(how = 'all')\n",
    "commodities = (thedata['Commodity'].values)[:-1]\n",
    "allowance = thedata.iloc[-1, 4:].fillna(0).transpose()\n",
    "N_i_j = thedata.iloc[:-1, 4:].fillna(0).transpose().values\n",
    "N_i_j = N_i_j[:5,:7]\n",
    "nbi, nbj = N_i_j.shape\n",
    "c_j = np.ones(nbj)\n",
    "d_i = np.array(allowance)[:nbi]"
   ]
  },
  {
   "cell_type": "markdown",
   "metadata": {
    "id": "2thQPwobNb7P"
   },
   "source": [
    "We shall introduce slack variables $s_j \\geq 0$ and rewrite the dual problem in the standard form as:\n",
    "\n",
    "\\begin{align*}\n",
    "\\max_{s_j \\geq 0, \\pi_i \\geq 0} & ~ \\sum_{i} d_{i} \\pi_i \\\\\n",
    "\\text{s.t.} & ~ s_j  + \\sum_{i} N_{ij}\\pi_i= c_j .\n",
    "\\end{align*}"
   ]
  },
  {
   "cell_type": "markdown",
   "metadata": {
    "id": "cFzjtEF9Nb7P"
   },
   "source": [
    "We start from the *basic feasible solution*, $\\pi_i = 0$ and $s_j = c_j$. The $J$ variables $s_1,\\dots,s_J$ are the basic variables. The $I$ nonbasic variables, $\\pi_1,\\dots,\\pi_I$, are set to zero.\n",
    "One can express the basic variables as a function of the nonbasic variables as follows:\n",
    "\n",
    "$s_j  = c_j - \\sum_{i} N_{ij}\\pi_i.$\n",
    "\n",
    "The dual objective is also expressed as a function of the nonbasic variables:\n",
    "\n",
    "$\\text{obj}_D = \\sum_{i} d_{i}\\pi_i.$\n",
    "\n",
    "These equalities constitute our *primal dictionary*.\n"
   ]
  },
  {
   "cell_type": "markdown",
   "metadata": {
    "id": "5zpveeeyNb7S"
   },
   "source": [
    "We code this up as a tableau. First, we define the basic dual variables (the $s_j$), and the nonbasic dual variables (the $\\pi_i$) ."
   ]
  },
  {
   "cell_type": "code",
   "execution_count": 14,
   "metadata": {
    "colab": {
     "base_uri": "https://localhost:8080/"
    },
    "id": "XZbRB6MUNb7S",
    "outputId": "cf924032-a11d-40f4-8bc6-993b3b899714"
   },
   "outputs": [
    {
     "data": {
      "text/plain": [
       "[s_0, s_1, s_2, s_3, s_4, s_5, s_6, pi_0, pi_1, pi_2, pi_3, pi_4]"
      ]
     },
     "execution_count": 14,
     "metadata": {},
     "output_type": "execute_result"
    }
   ],
   "source": [
    "dual_tableau = Tableau(['s_' + str(j) for j in range(nbj)],\n",
    "                      ['pi_' + str(i) for i in range(nbi)],\n",
    "                      N_i_j.T, c_j , d_i)\n",
    "dual_tableau.variables()"
   ]
  },
  {
   "cell_type": "markdown",
   "metadata": {
    "id": "gZVxRUPpNb7S"
   },
   "source": [
    "Something similar takes place for the primal problem. We introduce $t_i$ the slack variable associated with the constraint $\\sum_{j} N_{ij}q_j \\geq d_i$, and we obtain the following *primal dictionary*:\n",
    "\n",
    "$t_i  = -d_i + \\sum_{j} N_{ij}q_j.$\n",
    "\n",
    "The primal objective is also expressed as a function of the nonbasic variables:\n",
    "\n",
    "$\\text{obj}_P = \\sum_{j} c_{j}q_j.$"
   ]
  },
  {
   "cell_type": "code",
   "execution_count": 15,
   "metadata": {
    "colab": {
     "base_uri": "https://localhost:8080/"
    },
    "id": "3Awi3_xTNb7T",
    "outputId": "f3a6aaf3-0b55-45f6-b5e6-ecea2b5c92d4"
   },
   "outputs": [
    {
     "data": {
      "text/plain": [
       "[t_0, t_1, t_2, t_3, t_4, q_0, q_1, q_2, q_3, q_4, q_5, q_6]"
      ]
     },
     "execution_count": 15,
     "metadata": {},
     "output_type": "execute_result"
    }
   ],
   "source": [
    "primal_tableau = Tableau(['t_' + str(i) for i in range(nbi)],\n",
    "                      ['q_' + str(j) for j in range(nbj)],\n",
    "                      N_i_j, d_i , c_j)\n",
    "primal_tableau.variables()"
   ]
  },
  {
   "cell_type": "markdown",
   "metadata": {
    "id": "_DoBzHC0Nb7T"
   },
   "source": [
    "We see that there is a natural correspondence between $\\pi_i$ and $t_i$ on the one hand, and $s_j$ and $q_j$ on the other, which we encode into:"
   ]
  },
  {
   "cell_type": "code",
   "execution_count": 16,
   "metadata": {
    "colab": {
     "base_uri": "https://localhost:8080/",
     "height": 38
    },
    "id": "4G2a29MNNb7T",
    "outputId": "8f400653-2cc5-4702-eaee-aea592209210"
   },
   "outputs": [
    {
     "data": {
      "text/latex": [
       "$\\displaystyle t_{0}$"
      ],
      "text/plain": [
       "t_0"
      ]
     },
     "execution_count": 16,
     "metadata": {},
     "output_type": "execute_result"
    }
   ],
   "source": [
    "primals = {dual:Symbol(str(dual).replace('pi','t').replace('s','q')) for dual in dual_tableau.variables()}\n",
    "primals[Symbol('pi_0')]"
   ]
  },
  {
   "cell_type": "markdown",
   "metadata": {
    "id": "cCgdiHdtNb7U"
   },
   "source": [
    "We also see that the nonbasic dual variables correspond to basic primal variables, and basic dual variables to nonbasic primal ones. The basis will change but we shall maintain that property, called *complementary slackness*, throughout."
   ]
  },
  {
   "cell_type": "markdown",
   "metadata": {
    "id": "1-_HMtj_Nb7U"
   },
   "source": [
    "We now look for our entering variable."
   ]
  },
  {
   "cell_type": "code",
   "execution_count": 17,
   "metadata": {
    "colab": {
     "base_uri": "https://localhost:8080/",
     "height": 38
    },
    "id": "kHQixRpeNb7U",
    "outputId": "e17ac2c8-01ee-480d-8a6c-6d9e0af9d7ad"
   },
   "outputs": [
    {
     "data": {
      "text/latex": [
       "$\\displaystyle \\pi_{0}$"
      ],
      "text/plain": [
       "pi_0"
      ]
     },
     "execution_count": 17,
     "metadata": {},
     "output_type": "execute_result"
    }
   ],
   "source": [
    "entering_var = dual_tableau.determine_entering()\n",
    "entering_var"
   ]
  },
  {
   "cell_type": "markdown",
   "metadata": {
    "id": "Gsn17CIVzf11"
   },
   "source": [
    "On this example, variable $\\pi_0$ will enter.\n",
    "\n",
    "Next, we determine our departing variable."
   ]
  },
  {
   "cell_type": "code",
   "execution_count": 18,
   "metadata": {
    "colab": {
     "base_uri": "https://localhost:8080/",
     "height": 38
    },
    "id": "UJ6ohtNMNb7V",
    "outputId": "6b57e152-1cfd-4c98-e8ad-a3c940ea6f6c"
   },
   "outputs": [
    {
     "data": {
      "text/latex": [
       "$\\displaystyle s_{0}$"
      ],
      "text/plain": [
       "s_0"
      ]
     },
     "execution_count": 18,
     "metadata": {},
     "output_type": "execute_result"
    }
   ],
   "source": [
    "departing_var = dual_tableau.determine_departing(entering_var)\n",
    "departing_var"
   ]
  },
  {
   "cell_type": "markdown",
   "metadata": {
    "id": "I4MPMmPNNb7V"
   },
   "source": [
    "After having determined our entering and leaving variables, we update our dual dictionary with:"
   ]
  },
  {
   "cell_type": "code",
   "execution_count": 19,
   "metadata": {
    "colab": {
     "base_uri": "https://localhost:8080/"
    },
    "id": "MeylSSeENb7V",
    "outputId": "766719bb-ba3b-4417-a40f-b7da1c640295"
   },
   "outputs": [
    {
     "name": "stdout",
     "output_type": "stream",
     "text": [
      "Entering = pi_0; departing = s_0\n",
      "pi_0 = -31.57*pi_1 - 0.04*pi_2 - 8.17*pi_3 - 0.02*s_0 + 0.02\n"
     ]
    }
   ],
   "source": [
    "expr_entering_var = dual_tableau.pivot(entering_var,departing_var,verbose = 2)"
   ]
  },
  {
   "cell_type": "markdown",
   "metadata": {
    "id": "2JpE1PCFNb7W"
   },
   "source": [
    "We perform similar operations in the primal dictionary. In the dual dictionary, we have just determined that $\\pi_{i^\\star}$ entered the dual basis and $s_{j^\\star}$ departed. As a result, in the primal dictionary, we will let $t_{i^\\star}$ depart the primal basis and $y_{j^\\star}$ enter.\n",
    "\n",
    "This is coded into:"
   ]
  },
  {
   "cell_type": "code",
   "execution_count": 20,
   "metadata": {
    "colab": {
     "base_uri": "https://localhost:8080/",
     "height": 38
    },
    "id": "sUuGMz_qNb7W",
    "outputId": "eb1915f6-7bad-4e48-bb88-fbe7bb4a6348"
   },
   "outputs": [
    {
     "data": {
      "text/latex": [
       "$\\displaystyle - 0.26 q_{1} - 0.26 q_{2} - 0.26 q_{3} - 0.81 q_{4} - 0.64 q_{5} - 0.47 q_{6} - 0.02 t_{0} + 0.07$"
      ],
      "text/plain": [
       "-0.26*q_1 - 0.26*q_2 - 0.26*q_3 - 0.81*q_4 - 0.64*q_5 - 0.47*q_6 - 0.02*t_0 + 0.07"
      ]
     },
     "execution_count": 20,
     "metadata": {},
     "output_type": "execute_result"
    }
   ],
   "source": [
    "round_expr(primal_tableau.pivot(primals[departing_var],primals[entering_var]),2)\n"
   ]
  },
  {
   "cell_type": "markdown",
   "metadata": {
    "id": "m0LroUXLNb7W"
   },
   "source": [
    "We have completed one simplex step. Let's take a look at our dual dictionary after that step:"
   ]
  },
  {
   "cell_type": "code",
   "execution_count": 21,
   "metadata": {
    "colab": {
     "base_uri": "https://localhost:8080/"
    },
    "id": "YmqUNcfZNb7W",
    "outputId": "05ebd4e1-d278-41d6-ca7a-27e1807a54d6"
   },
   "outputs": [
    {
     "name": "stdout",
     "output_type": "stream",
     "text": [
      "-------------------------- \n",
      "Objective and constraints:\n",
      "obj  =  -24.7*pi_1 + 0.67*pi_2 - 12.5*pi_3 + 5.0*pi_4 - 0.07*s_0 + 0.07\n",
      "s_1  =  -51.83*pi_1 - 0.18*pi_2 + 40.72*pi_3 + 0.26*s_0 + 0.74\n",
      "s_2  =  -4.52*pi_1 - 13.87*pi_2 - 78.65*pi_3 + 0.26*s_0 + 0.74\n",
      "s_3  =  107.85*pi_1 + 0.41*pi_2 + 37.09*pi_3 + 0.26*s_0 + 0.74\n",
      "s_4  =  239.38*pi_1 - 0.09*pi_2 + 194.96*pi_3 - 30.9*pi_4 + 0.81*s_0 + 0.19\n",
      "s_5  =  222.79*pi_1 + 0.48*pi_2 + 153.53*pi_3 + 0.64*s_0 + 0.36\n",
      "s_6  =  209.2*pi_1 + 0.35*pi_2 + 132.11*pi_3 + 0.47*s_0 + 0.53\n",
      "pi_0  =  -31.57*pi_1 - 0.04*pi_2 - 8.17*pi_3 - 0.02*s_0 + 0.02\n"
     ]
    }
   ],
   "source": [
    "dual_tableau.display()"
   ]
  },
  {
   "cell_type": "markdown",
   "metadata": {
    "id": "evFCbGs2Nb7X"
   },
   "source": [
    "Now let's summarize all we've done above by writing a simplex step into a function:"
   ]
  },
  {
   "cell_type": "code",
   "execution_count": 22,
   "metadata": {
    "id": "YS4Qb10gNb7X"
   },
   "outputs": [],
   "source": [
    "def simplex_loop_dualprimal(dual_tableau,primal_tableau,primals):\n",
    "    entering_var = dual_tableau.determine_entering()\n",
    "    if entering_var is None:\n",
    "        print('Optimal solution found.\\n=======================')\n",
    "        print('Basic primal variables:')\n",
    "        primal_tableau.solution(verbose=1)\n",
    "        print('Basic dual variables:')\n",
    "        dual_tableau.solution(verbose=1)\n",
    "    else:\n",
    "        departing_var = dual_tableau.determine_departing(entering_var)\n",
    "        if departing_var is None:\n",
    "            print('Unbounded solution.')\n",
    "        else:\n",
    "            expr_entering_var = dual_tableau.pivot(entering_var,departing_var, verbose=1)\n",
    "            _ = primal_tableau.pivot(primals[departing_var],primals[entering_var])\n",
    "            return False # not finished\n",
    "    return True # finished"
   ]
  },
  {
   "cell_type": "markdown",
   "metadata": {
    "id": "DlfXglQFNb7Y"
   },
   "source": [
    "We can then code the simplex into:"
   ]
  },
  {
   "cell_type": "code",
   "execution_count": 23,
   "metadata": {
    "colab": {
     "base_uri": "https://localhost:8080/"
    },
    "id": "YSg6HExxNb7Y",
    "outputId": "ccb6797a-f5b5-457b-b2e7-64c0c36f056d"
   },
   "outputs": [
    {
     "name": "stdout",
     "output_type": "stream",
     "text": [
      "Entering = pi_2; departing = s_2\n",
      "Entering = pi_4; departing = s_4\n",
      "Entering = pi_1; departing = pi_0\n",
      "Entering = pi_3; departing = pi_1\n",
      "Entering = s_0; departing = pi_3\n",
      "Optimal solution found.\n",
      "=======================\n",
      "Basic primal variables:\n",
      "obj = 0.19826501258540102\n",
      "q_2 = 0.03645271485077321\n",
      "q_4 = 0.16181229773462782\n",
      "t_0 = -3.2553847536857248\n",
      "t_1 = -88.8883045667026\n",
      "t_3 = -10.39864257461351\n",
      "Basic dual variables:\n",
      "obj = 0.1982650125854008\n",
      "s_1 = 0.9513888888888881\n",
      "s_3 = 0.9930555555555547\n",
      "s_5 = 0.9444444444444426\n",
      "s_6 = 0.9583333333333319\n",
      "pi_2 = 0.06944444444444457\n",
      "pi_4 = 0.028541891405968987\n",
      "s_0 = 0.8611111111111079\n",
      "\n",
      "Value = 0.198265012585401\n"
     ]
    }
   ],
   "source": [
    "finished = False\n",
    "while not finished:\n",
    "  finished = simplex_loop_dualprimal(dual_tableau,primal_tableau,primals)\n",
    "print('\\nValue = '+str(dual_tableau.base[Symbol('obj')].subs([ (variable,0) for variable in dual_tableau.nonbasic])))"
   ]
  },
  {
   "cell_type": "markdown",
   "metadata": {
    "id": "4_sTHq4ONb7Z"
   },
   "source": [
    "Compare with Gurobi:"
   ]
  },
  {
   "cell_type": "code",
   "execution_count": 24,
   "metadata": {
    "colab": {
     "base_uri": "https://localhost:8080/"
    },
    "id": "cOG2sq1FNb7Z",
    "outputId": "34e5ce12-6ea2-48ad-cbc9-c67132bcdaeb"
   },
   "outputs": [
    {
     "name": "stdout",
     "output_type": "stream",
     "text": [
      "Set parameter Username\n",
      "Academic license - for non-commercial use only - expires 2024-01-12\n",
      "\n",
      "Value = 0.19826501258540097\n"
     ]
    }
   ],
   "source": [
    "dietmodel = grb.Model()\n",
    "varq_j = dietmodel.addMVar(nbj)\n",
    "dietmodel.Params.OutputFlag = 0\n",
    "dietmodel.setObjective(varq_j.sum(), grb.GRB.MINIMIZE)\n",
    "c = dietmodel.addConstr(N_i_j @ varq_j >= d_i)\n",
    "dietmodel.optimize()\n",
    "q_j , π_i, val = dietmodel.getAttr('X') , dietmodel.getAttr('pi'), dietmodel.getAttr('objVal')\n",
    "print('\\nValue =',val)"
   ]
  },
  {
   "cell_type": "markdown",
   "metadata": {
    "id": "dUbcFd4uq6Zo"
   },
   "source": [
    "Gurobi finds the same solution as our simplex algorithm coding — although significantly faster."
   ]
  }
 ],
 "metadata": {
  "colab": {
   "provenance": [],
   "toc_visible": true
  },
  "kernelspec": {
   "display_name": "Python 3 (ipykernel)",
   "language": "python",
   "name": "python3"
  },
  "language_info": {
   "codemirror_mode": {
    "name": "ipython",
    "version": 3
   },
   "file_extension": ".py",
   "mimetype": "text/x-python",
   "name": "python",
   "nbconvert_exporter": "python",
   "pygments_lexer": "ipython3",
   "version": "3.10.9"
  }
 },
 "nbformat": 4,
 "nbformat_minor": 1
}
