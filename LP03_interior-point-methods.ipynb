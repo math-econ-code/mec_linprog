{
 "cells": [
  {
   "cell_type": "markdown",
   "metadata": {
    "id": "btS1bfjiNb7F"
   },
   "source": [
    "# <center>Interior-point methods</center>\n",
    "### <center>Alfred Galichon and Antoine Jacquet (NYU & Sciences Po)</center>\n",
    "## <center>'math+econ+code' masterclass series</center>\n",
    "#### <center>With python code examples</center>\n",
    "© 2018–2023 by Alfred Galichon. Past and present support from NSF grant DMS-1716489, ERC grant CoG-866274 are acknowledged, as well as inputs from contributors listed [here](http://www.math-econ-code.org/team).\n",
    "\n",
    "**If you reuse material from this masterclass, please cite as:**<br>\n",
    "Alfred Galichon, 'math+econ+code' masterclass series. https://www.math-econ-code.org/"
   ]
  },
  {
   "cell_type": "markdown",
   "metadata": {
    "id": "NvpCAQSJNb7K"
   },
   "source": [
    "## Linear programming: interior-point methods\n",
    "\n",
    "### Learning objectives\n",
    "\n",
    "* Primal-dual interior-point method\n",
    "\n",
    "### References\n",
    "\n",
    "* Freund & Vera (1996). *Interior-Point Methods for Linear Optimization.* Lecture notes.\n",
    "* Wright. *Linear Programming: Interior-Point Methods.* Lecture notes."
   ]
  },
  {
   "cell_type": "markdown",
   "metadata": {
    "id": "v59RjxfwP1iC"
   },
   "source": [
    "### Background\n",
    "\n",
    "In the previous lecture, we saw that the simplex algorithm finds a solution to a linear programming problem by moving along the edges of the feasible set.\n",
    "While this is effective with most practical cases, the worst-case complexity of the simplex algorithm is exponential.\n",
    "\n",
    "*Interior-point methods* were developed starting from the 1980s as a polynomial-complexity alternative to the simplex method.\n",
    "As the name suggests, and contrary to the simplex algorithm, *interior-point methods* move through the interior of the feasible set to reach a solution."
   ]
  },
  {
   "cell_type": "markdown",
   "metadata": {
    "id": "XTwuussNv7T4"
   },
   "source": [
    "Let's begin by loading the usual packages."
   ]
  },
  {
   "cell_type": "code",
   "execution_count": 69,
   "metadata": {
    "colab": {
     "base_uri": "https://localhost:8080/"
    },
    "id": "JyB3iJlIMqBh",
    "outputId": "bde216b3-6c00-42a6-92a6-72640365702e"
   },
   "outputs": [
    {
     "name": "stdout",
     "output_type": "stream",
     "text": [
      "Looking in indexes: https://pypi.org/simple, https://us-python.pkg.dev/colab-wheels/public/simple/\n",
      "Requirement already satisfied: gurobipy in /usr/local/lib/python3.10/dist-packages (10.0.2)\n"
     ]
    }
   ],
   "source": [
    "!pip install gurobipy\n",
    "import pandas as pd\n",
    "import numpy as np\n",
    "import scipy.sparse as spr\n",
    "import gurobipy as grb\n",
    "import sympy\n",
    "from sympy.solvers import solve\n",
    "from sympy import *\n",
    "import matplotlib.pyplot as plt\n",
    "from tabulate import tabulate\n",
    "\n",
    "def plot_path_so_far(the_path):\n",
    "    x1, x2 = np.meshgrid(np.linspace(-0.2, 1.4, 400), np.linspace(-0.2, 1.4, 400))\n",
    "    feasible_region = (2 * x1 + x2 <= 2) & (x1 + 2 * x2 <= 2) & (x1 >= 0) & (x2 >= 0)\n",
    "    fig, ax = plt.subplots(figsize=(5, 5))\n",
    "    plt.contourf(x1, x2, np.where(feasible_region, x1+x2, np.nan), 50, alpha = 0.5, cmap='gray_r', levels=30)\n",
    "    plt.text(0.4, 0.4, 'Feasible solutions', color = 'white', ha='center', va='center')\n",
    "    ax.plot(x1[0, :], 2 - 2*x1[0, :], label='z1 = 0')\n",
    "    ax.plot(2 - 2*x2[:, 0], x2[:, 0], label='z2 = 0')\n",
    "    ax.plot([a for (a,_) in the_path], [b for (_,b) in the_path], 'r--', label='Algorithm path')\n",
    "    ax.scatter([a for (a,_) in the_path], [b for (_,b) in the_path], color='red')\n",
    "    ax.set_xlim(-0.2, 1.4), ax.set_ylim(-0.2, 1.4)\n",
    "    ax.set_xlabel('x1'), ax.set_ylabel('x2')\n",
    "    ax.spines[['left', 'bottom']].set_position('zero')\n",
    "    ax.spines[['right', 'top']].set_color('none')\n",
    "    ax.legend()\n",
    "    plt.show()"
   ]
  },
  {
   "cell_type": "markdown",
   "metadata": {
    "id": "Ckv_dXM9a_0Y"
   },
   "source": [
    "## The standard problem\n",
    "\n",
    "Let $c \\in \\mathbf{R}^n$, $b \\in \\mathbf{R}^m$, and $A$ a $m\\times n$ matrix, and consider the standard-form linear programming problem\n",
    "\n",
    "\\begin{align}\n",
    "P : \\max_{x \\geq 0}  & ~ c^{\\top} x \\\\\n",
    "\\text{s.t.} & ~ Ax = b.\n",
    "\\end{align}\n",
    "\n",
    "Using slack variables $s_j$, the dual is\n",
    "\n",
    "\\begin{align}\n",
    "D : \\min_{y \\in \\mathbf R^m, s \\geq 0}  & ~ b^{\\top} y \\\\\n",
    "\\text{s.t.} & ~ A^\\top y - s = c.\n",
    "\\end{align}\n",
    "\n",
    "\n"
   ]
  },
  {
   "cell_type": "markdown",
   "metadata": {
    "id": "vEQtC8Lj5SZR"
   },
   "source": [
    "\n",
    "The KKT conditions for $P$ are\n",
    "\n",
    "* $Ax = b$, $x \\geq 0$ (Primal feasibility)\n",
    "* $A^\\top y - s = c$, $s \\geq 0$ (Dual feasibility)\n",
    "* $\\forall j, ~ s_j ~ x_j = 0$ (Complementary slackness).\n",
    "\n",
    "This is a system of equations with unknowns $(x, y, s)$, but it is nonlinear because of the complemetary slackness condition.\n",
    "\n",
    "A common way to find a solution to a nonlinear system is Netwon's method:\n",
    "* take an initial guess $x_0$,\n",
    "* linearize the system of equations around $x_0$,\n",
    "* find the solution $x_1$ to this linearized system.\n",
    "\n",
    "Under regularity conditions, $x_1$ will be closer to the actual solution of the problem than the initial guess $x_0$.\n",
    "Thus, iterating Newton's method would yield our desired solution.\n",
    "\n",
    "However, we cannot implement this method here.\n",
    "This is because of the positivity constraints $x \\geq 0, s \\geq 0$.\n",
    "Indeed, with Newton's method we do not control the search range for $x$ and $s$.\n",
    "We are therefore likely to converge towards spurious solutions of the KKT system (i.e. such that the positivity constraints are violated)."
   ]
  },
  {
   "cell_type": "markdown",
   "metadata": {
    "id": "t6Aih2eDa_3L"
   },
   "source": [
    "## Logarithmic barrier\n",
    "\n",
    "To circumvent this issue with the posivity constraints, we will add a penalty to our objective which will ensure that we remain within the feasible region.\n",
    "We define a class of problems parametrized by $\\theta > 0$:\n",
    "\n",
    "\\begin{align}\n",
    "P(\\theta) : \\max_{x > 0}  & ~ c^{\\top} x\n",
    "+ \\theta \\sum_j \\ln(x_j) \\\\\n",
    "\\text{s.t.} & ~ Ax = b.\n",
    "\\end{align}\n",
    "\n",
    "Intuitively, when $\\theta$ approaches 0, the solution of $P(\\theta)$ should approach that of $P$. (We will verify this shortly.)"
   ]
  },
  {
   "cell_type": "markdown",
   "metadata": {
    "id": "9dHjyZ1z7OMO"
   },
   "source": [
    "The KKT conditions for $P(\\theta)$ are\n",
    "* $Ax = b$, $x>0$ (Primal feasibility)\n",
    "* $A^\\top y + \\theta ~ \\frac{1}{x}  = c$ (Stationarity)\n",
    "\n",
    "where we have abused notation by denoting $\\frac{1}{x} = \\big(\\frac{1}{x_j}\\big)_j$.\n",
    "\n",
    "Now let's just rewrite these KKT conditions by introducing the variables $s_j = \\theta / x_j$:\n",
    "* $Ax = b$, $x > 0$\n",
    "* $A^\\top y - s  = c$\n",
    "* $\\forall j, ~ s_j ~ x_j = \\theta$.\n",
    "\n",
    "We find a system very similar to that of the KKT conditions for $P$. By introducing the logarithmic barrier, we have essentially relaxed the complementary slackness conditions to $s_j ~ x_j = \\theta$.\n",
    "\n",
    "Furthermore, the logarithmic barrier guarantees that we will not explore the non-feasible space in our search for a solution.\n",
    "(Note that in practice this also requires choosing a large enough $\\theta$, but we will not cover this here.)"
   ]
  },
  {
   "cell_type": "markdown",
   "metadata": {
    "id": "3SBXUnYsgCKq"
   },
   "source": [
    "### Duality gap\n",
    "\n",
    "If $(x_\\theta, y_\\theta, s_\\theta)$ is a solution to $P(\\theta)$, then it is feasible for both $P$ and $D$ (verify) and the duality gap is\n",
    "\n",
    "\\begin{align*}\n",
    "b^\\top y_\\theta - c^\\top x_\\theta\n",
    "&= (A x_\\theta)^\\top y_\\theta - x_\\theta^\\top c\n",
    "= x_\\theta^\\top (A^\\top y_\\theta - c) \\\\\n",
    "&= x_\\theta^\\top s_\\theta \\\\\n",
    "&= n \\theta\n",
    "\\end{align*}\n",
    "\n",
    "where $n$ is the dimension of $x$.\n",
    "\n",
    "This motivates us to look for solutions to $P(\\theta)$ for smaller and smaller values of $\\theta$. As $\\theta \\rightarrow 0$, $(x_\\theta, y_\\theta, s_\\theta)$ should converge towards a point which is primal- and dual-feasible and with no duality gap, i.e. solution of the original primal-dual problem.\n",
    "\n",
    "The set of solutions $\\{ (x_\\theta, y_\\theta, s_\\theta) \\mid \\theta > 0 \\}$ is called the *central path*."
   ]
  },
  {
   "cell_type": "markdown",
   "metadata": {
    "id": "5jOE1lB4734J"
   },
   "source": [
    "# The algorithm\n",
    "\n",
    "We can now describe roughly the algorithm we want to implement:\n",
    "\n",
    "---\n",
    "\n",
    "**Step 0.** Choose a starting point $(x,y,s)$ along with an initial value for $\\theta$.\n",
    "\n",
    "**Step 1.** Use $(x,y,s)$ to find an approximate solution $(x', y', s')$ to the problem $P(\\theta)$ via Newton's method.\n",
    "\n",
    "**Step 2.** Shrink $\\theta$ to $\\theta' = \\alpha \\theta$, where $0 < \\alpha < 1$.\n",
    "\n",
    "Go back to step 1 with the new values $(x', y', s')$ and $\\theta'$.\n",
    "\n",
    "---\n",
    "\n",
    "By finding an approximate solution to $P(\\theta)$, shrinking $\\theta$, and repeating this process, we hope that our algorithm will follow an itinerary close to the central path, and thus converge towards the solution of the initial problem $P$.\n",
    "\n",
    "*Remark:* In practice the shrinkage coefficient $\\alpha$ must be chosen carefully, in order to ensure convergence of the algorithm."
   ]
  },
  {
   "cell_type": "markdown",
   "metadata": {
    "id": "hhHQk1iBa_58"
   },
   "source": [
    "### Approximate solution to the KKT system\n",
    "\n",
    "Let's see how we can use the KKT system of problem $P(\\theta)$ to obtain an approximate solution.\n",
    "\n",
    "Consider an interior, feasible starting point $(x, y, s)$ to the problem $P(\\theta)$. In particular, it satisfies\n",
    "* $Ax = b$\n",
    "* $A^\\top y - s  = c$.\n",
    "\n",
    "Ideally, our new iterate $(x + \\Delta x, y + \\Delta y, s + \\Delta s)$ would be a solution of $P(\\theta)$ and should thus verify\n",
    "* $A(x + \\Delta x) = b$\n",
    "* $A^\\top (y + \\Delta y) - (s + \\Delta s)  = c$\n",
    "* $\\forall j, ~ (s + \\Delta s)_j ~ (x + \\Delta x)_j = \\theta$.\n",
    "\n",
    "Because $(x, y, s)$ is both primal- and dual-feasible, this simplifies to\n",
    "* $A \\Delta x = 0$\n",
    "* $A^\\top \\Delta y - \\Delta s  = 0$\n",
    "* $\\forall j, ~ (s + \\Delta s)_j ~ (x + \\Delta x)_j = \\theta$.\n",
    "\n",
    "We will find an approximate solution to this system by ignoring the only nonlinear term, $\\Delta s_j ~ \\Delta x_j$ (this is akin to using Newton's method; see details at the end).\n",
    "Our approximate system becomes\n",
    "* $A \\Delta x = 0$\n",
    "* $A^\\top \\Delta y - \\Delta s  = 0$\n",
    "* $\\forall j, ~ s_j ~ x_j + s_j ~ \\Delta x_j + \\Delta s_j ~ x_j = \\theta \\quad \\iff \\quad \\text{diag}(s) ~ x + \\text{diag}(s) \\Delta x + \\text{diag}(x) \\Delta s = \\theta 1_n.$\n"
   ]
  },
  {
   "cell_type": "markdown",
   "metadata": {
    "id": "r603UyGWntQh"
   },
   "source": [
    "Note that if we manage to solve this system, our new iterate $(x + \\Delta x, y + \\Delta y, s + \\Delta s)$ will still be primal- and dual-feasible (verify).\n",
    "\n",
    "The only difficulty is finding $\\Delta y$. Once this is done, we can plug it in to find $\\Delta s$, and then $\\Delta x$.\n",
    "\n",
    "Left-multiply the last condition by $A ~ \\text{diag}(s)^{-1}$ to get\n",
    "\n",
    "\\begin{equation}\n",
    "A x + A \\Delta x + A ~ \\text{diag}(s)^{-1} \\text{diag}(x) \\Delta s = \\theta A ~ \\text{diag}(s)^{-1} 1_n.\n",
    "\\end{equation}\n",
    "\n",
    "Using $A \\Delta x = 0$, $Ax = b$, $\\Delta s = A^\\top \\Delta y$ and reorganizing yields\n",
    "\n",
    "\\begin{equation}\n",
    "\\left[ A ~ \\text{diag}(s)^{-1} \\text{diag}(x) A^\\top \\right] \\Delta y = \\theta A ~ \\text{diag}(s)^{-1} 1_n - b.\n",
    "\\end{equation}\n"
   ]
  },
  {
   "cell_type": "markdown",
   "metadata": {
    "id": "ppJ7RTzRmUY6"
   },
   "source": [
    "Hence the algorithm step is given by:\n",
    "\n",
    "* $\\Delta y$ solves the linear system: $\\left[ A ~ \\text{diag}(s)^{-1} \\text{diag}(x) A^\\top \\right] \\Delta y = \\theta A ~ \\text{diag}(s)^{-1} 1_n - b$\n",
    "* $\\Delta s = A^\\top \\Delta y$\n",
    "* $\\Delta x = - x - \\text{diag}(s)^{-1} \\text{diag}(x) \\Delta s +  \\theta \\text{diag}(s)^{-1} 1_n$"
   ]
  },
  {
   "cell_type": "markdown",
   "metadata": {
    "id": "U9YcfjPtKH1c"
   },
   "source": [
    "## Implementation\n",
    "\n",
    "We will code the IPM algorithm described above, while following along using the LP example from our previous lecture. Its standard form was\n",
    "\n",
    "\\begin{align*}\n",
    "\\max_{x_1, x_2, x_3, x_4 \\geq 0}  & ~ x_1 + x_2 \\\\\n",
    "\\text{s.t.} & ~ 2 x_1 + x_2 + x_3 = 2  \\\\\n",
    "            & ~ x_1 + 2 x_2 + x_4 = 2\n",
    "\\end{align*}\n",
    "\n",
    "where $x_3$ and $x_4$ are the slack variables."
   ]
  },
  {
   "cell_type": "markdown",
   "metadata": {
    "id": "Ja1MzHc8bUaM"
   },
   "source": [
    "We begin by defining a Python class `InteriorPoint` to use with our algorithm. On top of the data from the LP problem ($A$, $b$ and $c$), this class includes the current point (including the current value of $\\theta$) in the solution search. We also attach an appropriate shrinkage coefficient $\\alpha$ to this class, according to a formula provided in Freund & Vera (1996)."
   ]
  },
  {
   "cell_type": "code",
   "execution_count": 70,
   "metadata": {
    "colab": {
     "base_uri": "https://localhost:8080/"
    },
    "id": "CofHQHJSIdU2",
    "outputId": "7682ab93-2dff-4232-8715-1bc6ca5772de"
   },
   "outputs": [
    {
     "data": {
      "text/plain": [
       "0.9431818181818182"
      ]
     },
     "execution_count": 70,
     "metadata": {},
     "output_type": "execute_result"
    }
   ],
   "source": [
    "class InteriorPoint():\n",
    "    def __init__(self,A,b,c,current_point=None):\n",
    "        self.A = A\n",
    "        self.b = b\n",
    "        self.c = c\n",
    "        self.current_point = current_point\n",
    "        self.α = 1 - (1/8)/(1/5 + np.sqrt(len(c))) # shrinkage coeff αs given by Freund & Vera\n",
    "\n",
    "    #def strictly_feasible_solution(self):\n",
    "    #    x = np.linalg.lstsq(A, b) # Ax < b\n",
    "    #    s = .01*np.ones(len(c))\n",
    "    #    y = np.linalg.lstsq(A.T, s + c) # A.T y > c\n",
    "    #    return np.concatenate((x,y,s))\n",
    "\n",
    "LP_example = InteriorPoint(A = np.array([[2, 1, 1, 0], [1, 2, 0, 1]]),\n",
    "                      b = [2,2],\n",
    "                      c = np.array([1,1,0,0]))\n",
    "\n",
    "LP_example.α"
   ]
  },
  {
   "cell_type": "markdown",
   "metadata": {
    "id": "2SxK5uFWb5re"
   },
   "source": [
    "To initialize our algorithm, we need a starting point which is a strictly feasible solution to the primal-dual problem.\n",
    "\n",
    "In our example, a strictly feasible solution (i.e. such that $x > 0$) is for instance\n",
    "\n",
    "$x_1 = .20$, $x_2 = .01$, $x_3 = 1.59$, $x_4 = 1.78$.\n",
    "\n",
    "For the dual, a strictly feasible solution (i.e. such that $s > 0$) is\n",
    "\n",
    "$y_1 = y_2 = 1$ \\\\\n",
    "$s_1 = s_2 = 2$, $s_3 = s_4 = 1$.\n",
    "\n",
    "We also choose $\\theta = .5$ (somewhat arbitrarily) to start with.\n",
    "\n",
    "We define this starting point below, and we represent it in the $(x_1, x_2)$ space.\n"
   ]
  },
  {
   "cell_type": "code",
   "execution_count": 71,
   "metadata": {
    "colab": {
     "base_uri": "https://localhost:8080/",
     "height": 470
    },
    "id": "d7iMoj8BZymM",
    "outputId": "bca7efeb-9224-4a6f-999f-33987e4c9fac"
   },
   "outputs": [
    {
     "name": "stdout",
     "output_type": "stream",
     "text": [
      "True\n",
      "True\n"
     ]
    },
    {
     "data": {
      "image/png": "[encoded data removed]",
      "text/plain": [
       "<Figure size 500x500 with 1 Axes>"
      ]
     },
     "metadata": {},
     "output_type": "display_data"
    }
   ],
   "source": [
    "x_0 = np.array([.20, .01, 1.59, 1.78])\n",
    "y_0 = np.array([1, 1])\n",
    "s_0 = np.array([2, 2, 1, 1])\n",
    "\n",
    "print(all(LP_example.A @ x_0 == LP_example.b)) # verify that Ax = b\n",
    "print(all(LP_example.A.T @ y_0 - s_0 == LP_example.c)) # verify that A.T y - s = c\n",
    "\n",
    "starting_point = [x_0, y_0, s_0, .5] # x, y, s, θ\n",
    "LP_example.current_point = starting_point\n",
    "\n",
    "the_path_so_far = [starting_point[0][:2]]\n",
    "plot_path_so_far(the_path_so_far)"
   ]
  },
  {
   "cell_type": "markdown",
   "metadata": {
    "id": "FUtAN0cjjhh0"
   },
   "source": [
    "We now encode the computation of the new iterate:\n",
    "\n",
    "* $\\Delta y$ solves the linear system: $\\left[ A ~ \\text{diag}(s)^{-1} \\text{diag}(x) A^\\top \\right] \\Delta y = \\theta A ~ \\text{diag}(s)^{-1} 1_n - b$\n",
    "* $\\Delta s = A^\\top \\Delta y$\n",
    "* $\\Delta x = - x - \\text{diag}(s)^{-1} \\text{diag}(x) \\Delta s +  \\theta \\text{diag}(s)^{-1} 1_n$\n",
    "\n",
    "while also shrinking $\\theta$ to $\\alpha \\theta$.\n"
   ]
  },
  {
   "cell_type": "code",
   "execution_count": 72,
   "metadata": {
    "colab": {
     "base_uri": "https://localhost:8080/",
     "height": 504
    },
    "id": "ccFJqW_0IdU2",
    "outputId": "a01ac2af-904d-4945-b5c7-c37d3211c6f5"
   },
   "outputs": [
    {
     "name": "stdout",
     "output_type": "stream",
     "text": [
      "x1 = 0.35339926329276106\n",
      "x2 = 0.25526505445227415\n",
      "x3 = 1.0379364189622036\n",
      "x4 = 1.1360706278026906\n"
     ]
    },
    {
     "data": {
      "image/png": "[encoded data removed]",
      "text/plain": [
       "<Figure size 500x500 with 1 Axes>"
      ]
     },
     "metadata": {},
     "output_type": "display_data"
    }
   ],
   "source": [
    "def InteriorPoint_update(self, verbose=0):\n",
    "    x, y, s, θ = self.current_point\n",
    "    Δy = np.linalg.solve(self.A @ np.diag(1/s) @ np.diag(x) @ self.A.T, θ * self.A @ (1/s) - self.b)\n",
    "    Δs = self.A.T @ Δy\n",
    "    Δx = - x - np.diag(1/s) @ np.diag(x) @ Δs + θ * (1/s)\n",
    "    self.current_point = [x+Δx, y+Δy, s+Δs, self.α*θ]\n",
    "    if verbose > 0:\n",
    "        for j in range(len(x)): print(\"x\"+str(j+1)+\" =\", LP_example.current_point[0][j])\n",
    "    return self.current_point\n",
    "\n",
    "InteriorPoint.update = InteriorPoint_update\n",
    "\n",
    "LP_example.update(verbose=1)\n",
    "\n",
    "the_path_so_far.append(LP_example.current_point[0][:2])\n",
    "plot_path_so_far(the_path_so_far)"
   ]
  },
  {
   "cell_type": "markdown",
   "metadata": {
    "id": "SxVSNo3nM5SN"
   },
   "source": [
    "We can now repeat this process until we are satisfied by the convergence (as measured by our tolerance level `tol`). We encode a full step of the algorithm in `IPM_loop`."
   ]
  },
  {
   "cell_type": "code",
   "execution_count": 73,
   "metadata": {
    "colab": {
     "base_uri": "https://localhost:8080/",
     "height": 436
    },
    "id": "Ykv1Sgm8NfLy",
    "outputId": "2eab4d9c-3a87-4a69-a436-580b7b465a33"
   },
   "outputs": [
    {
     "data": {
      "image/png": "[encoded data removed]",
      "text/plain": [
       "<Figure size 500x500 with 1 Axes>"
      ]
     },
     "metadata": {},
     "output_type": "display_data"
    }
   ],
   "source": [
    "def InteriorPoint_loop(self, tol=1e-8, max_iter=100, verbose=0):\n",
    "    current_point = self.current_point\n",
    "    new_point = self.update()\n",
    "    if all(abs(np.concatenate(new_point[:-1]) - np.concatenate(current_point[:-1])) < tol):\n",
    "        print('Optimal solution found.\\n=======================')\n",
    "        if verbose > 0:\n",
    "            for i in range(len(new_point[0])): print(\"x\" + str(i+1), \"=\", new_point[0][i])\n",
    "    else:\n",
    "        if verbose > 1:\n",
    "            for i in range(len(new_point[0])): print(\"x\" + str(i+1), \"=\", new_point[0][i])\n",
    "        return False # not finished\n",
    "    return True # finished\n",
    "\n",
    "InteriorPoint.loop  = InteriorPoint_loop\n",
    "\n",
    "LP_example.loop(verbose=1)\n",
    "the_path_so_far.append(LP_example.current_point[0][:2])\n",
    "plot_path_so_far(the_path_so_far)"
   ]
  },
  {
   "cell_type": "markdown",
   "metadata": {
    "id": "Z-ks3O1yvMXC"
   },
   "source": [
    "We can then code the complete IPM algorithm as:"
   ]
  },
  {
   "cell_type": "code",
   "execution_count": 74,
   "metadata": {
    "colab": {
     "base_uri": "https://localhost:8080/",
     "height": 572
    },
    "id": "ot9rmHF6R2nY",
    "outputId": "da30d285-4ff4-445d-95f7-6dcab53a8cd7"
   },
   "outputs": [
    {
     "name": "stdout",
     "output_type": "stream",
     "text": [
      "Optimal solution found.\n",
      "=======================\n",
      "x1 = 0.6666666119505696\n",
      "x2 = 0.6666666119505698\n",
      "x3 = 1.641482909726515e-07\n",
      "x4 = 1.641482909726515e-07\n",
      "\n",
      "Value = 1.3333332239011395\n"
     ]
    },
    {
     "data": {
      "image/png": "[encoded data removed]",
      "text/plain": [
       "<Figure size 500x500 with 1 Axes>"
      ]
     },
     "metadata": {},
     "output_type": "display_data"
    }
   ],
   "source": [
    "finished = False\n",
    "while not finished:\n",
    "  finished = LP_example.loop(verbose=1)\n",
    "  the_path_so_far.append(LP_example.current_point[0][:2])\n",
    "print('\\nValue =', LP_example.c @ LP_example.current_point[0])\n",
    "\n",
    "plot_path_so_far(the_path_so_far)"
   ]
  },
  {
   "cell_type": "markdown",
   "metadata": {
    "id": "kPwldOb_1jqZ"
   },
   "source": [
    "We do converge to the solution $x_1 = x_2 = \\frac{2}{3}$. Our algorithm seems to work!\n",
    "\n",
    "*Remarks:*\n",
    "* Note the large number of iterations it took to reach the solution, compared to the simplex algorithm. This is in part because our shrinkage coefficient, $\\alpha$, is very close to one.\n",
    "More efficient methods exist, which allow for a much smaller shrinkage coefficient and faster convergence.\n",
    "* We initially set $\\theta = .5$, which seems to work here. Note that if this starting value is too small, then our algorithm may converge to spurious solutions (try it!). We are able to detect this in our simple example, but for a more complicated problem, one should be careful in choosing the starting value for $\\theta$."
   ]
  },
  {
   "cell_type": "markdown",
   "metadata": {
    "id": "1dDf51OI-SOE"
   },
   "source": [
    "## Application to the diet problem"
   ]
  },
  {
   "cell_type": "code",
   "execution_count": 75,
   "metadata": {
    "id": "VNiQGs9I-br5"
   },
   "outputs": [],
   "source": [
    "thepath = 'https://raw.githubusercontent.com/math-econ-code/mec_optim_2021-01/master/data_mec_optim/lp_stigler-diet/'\n",
    "filename = 'StiglerData1939.txt'\n",
    "thedata = pd.read_csv(thepath + filename, sep='\\t')\n",
    "thedata = thedata.dropna(how = 'all')\n",
    "commodities = (thedata['Commodity'].values)[:-1]\n",
    "allowance = thedata.iloc[-1, 4:].fillna(0).transpose()\n",
    "N_i_j = thedata.iloc[:-1, 4:].fillna(0).transpose().values\n",
    "nbi, nbj = N_i_j.shape\n",
    "c_j = np.ones(nbj)\n",
    "d_i = np.array(allowance)[:nbi]"
   ]
  },
  {
   "cell_type": "markdown",
   "metadata": {
    "id": "pLKdexIg_GXK"
   },
   "source": [
    "Recall the dual problem in standard form, with slack variables $z_j$:\n",
    "\n",
    "\\begin{align*}\n",
    "\\max_{z_j \\geq 0, \\pi_i \\geq 0} & ~ \\sum_{i} d_{i} \\pi_i \\\\\n",
    "\\text{s.t.} & ~ z_j  + \\sum_{i} N_{ij}\\pi_i= c_j .\n",
    "\\end{align*}"
   ]
  },
  {
   "cell_type": "code",
   "execution_count": 76,
   "metadata": {
    "colab": {
     "base_uri": "https://localhost:8080/"
    },
    "id": "Z_FwPCpx-rhX",
    "outputId": "9ce69e8c-de36-4406-98f5-77d736e05eba"
   },
   "outputs": [
    {
     "data": {
      "text/plain": [
       "0.9868054640305146"
      ]
     },
     "execution_count": 76,
     "metadata": {},
     "output_type": "execute_result"
    }
   ],
   "source": [
    "diet_problem = InteriorPoint(A = np.hstack((np.eye(nbj), N_i_j.T)),\n",
    "                      b = c_j,\n",
    "                      c = np.hstack((np.zeros(nbj), d_i)))\n",
    "\n",
    "diet_problem.α"
   ]
  },
  {
   "cell_type": "markdown",
   "metadata": {
    "id": "1ekW5LsOB6r3"
   },
   "source": [
    "We want to find a feasible starting point (i.e. such that $z_j > 0$ and $\\pi_i > 0$). Because all of the coefficients $c_j$ and and $N_{ij}$ are positive, this is easily achieved by choosing $\\pi_i$ small enough."
   ]
  },
  {
   "cell_type": "code",
   "execution_count": 77,
   "metadata": {
    "colab": {
     "base_uri": "https://localhost:8080/"
    },
    "id": "Fe9Svnl1CY3r",
    "outputId": "0852b4bc-92e8-44ad-9e1c-57aeab62f19b"
   },
   "outputs": [
    {
     "name": "stdout",
     "output_type": "stream",
     "text": [
      "True\n"
     ]
    }
   ],
   "source": [
    "π_0 = .0001*np.ones(nbi)\n",
    "z_0 = c_j - N_i_j.T @ π_0\n",
    "x_0 = np.hstack((z_0, π_0))\n",
    "\n",
    "print(all(x_0 > 0))"
   ]
  },
  {
   "cell_type": "markdown",
   "metadata": {
    "id": "08vARQZfEaW_"
   },
   "source": [
    "We also need a feasible point for the primal problem, i.e. $q$ such that $Nq \\geq d$. This is achieved by taking $q$ large enough."
   ]
  },
  {
   "cell_type": "code",
   "execution_count": 78,
   "metadata": {
    "colab": {
     "base_uri": "https://localhost:8080/"
    },
    "id": "69RObSjxFCSE",
    "outputId": "2efcca18-3898-409d-827f-935271bd42be"
   },
   "outputs": [
    {
     "name": "stdout",
     "output_type": "stream",
     "text": [
      "True\n"
     ]
    }
   ],
   "source": [
    "q_0 = 1*np.ones(nbj)\n",
    "\n",
    "y_0 = q_0\n",
    "s_0 = np.hstack((y_0, N_i_j @ q_0 - d_i))\n",
    "\n",
    "print(all(s_0 > 0))"
   ]
  },
  {
   "cell_type": "markdown",
   "metadata": {
    "id": "DoWBwwTVJi2M"
   },
   "source": [
    "We can now apply our algorithm to the diet problem."
   ]
  },
  {
   "cell_type": "code",
   "execution_count": 79,
   "metadata": {
    "colab": {
     "base_uri": "https://localhost:8080/"
    },
    "id": "0gw6hTdQDv2n",
    "outputId": "72b5e947-0a99-4e69-ca6a-ece441594452"
   },
   "outputs": [
    {
     "name": "stdout",
     "output_type": "stream",
     "text": [
      "Optimal solution found.\n",
      "=======================\n",
      "\n",
      "Value = 0.10866227804798514\n"
     ]
    }
   ],
   "source": [
    "diet_problem.current_point = [x_0, y_0, s_0, .5] # x, y, s, θ\n",
    "\n",
    "finished = False\n",
    "while not finished:\n",
    "  finished = diet_problem.loop(verbose=0)\n",
    "print('\\nValue =', diet_problem.c @ diet_problem.current_point[0])"
   ]
  },
  {
   "cell_type": "code",
   "execution_count": 80,
   "metadata": {
    "colab": {
     "base_uri": "https://localhost:8080/"
    },
    "id": "dtSWZbYc0v5Q",
    "outputId": "f7942666-9909-4229-d8a9-9a17c0ba660c"
   },
   "outputs": [
    {
     "name": "stdout",
     "output_type": "stream",
     "text": [
      "***Optimal solution***\n",
      "-------------------------  -----------\n",
      "1. Wheat Flour (Enriched)   0.0295191\n",
      "30. Liver (Beef)            0.00189256\n",
      "46. Cabbage                 0.0112144\n",
      "52. Spinach                 0.00500766\n",
      "69. Navy Beans Dried        0.0610286\n",
      "Total cost (optimal):      39.6617\n",
      "-------------------------  -----------\n"
     ]
    }
   ],
   "source": [
    "def print_optimal_diet(q_j):\n",
    "    print('***Optimal solution***')\n",
    "    total,thelist = 0.0, []\n",
    "    for j,commodity in enumerate(commodities):\n",
    "        if q_j[j] > 1e-8:\n",
    "            total += q_j[j] * 365\n",
    "            thelist.append([commodity,q_j[j]])\n",
    "    thelist.append(['Total cost (optimal):', total])\n",
    "    print(tabulate(thelist))\n",
    "\n",
    "print_optimal_diet(diet_problem.current_point[1])"
   ]
  },
  {
   "cell_type": "markdown",
   "metadata": {
    "id": "e0r84THPJ5ym"
   },
   "source": [
    "This is the same solution as the one we found in the first lecture. We also find the same with Gurobi:"
   ]
  },
  {
   "cell_type": "code",
   "execution_count": 81,
   "metadata": {
    "colab": {
     "base_uri": "https://localhost:8080/"
    },
    "id": "g0ayrKnZQvlv",
    "outputId": "fd6e35e9-1e10-4996-ed9d-5cb505630c9b"
   },
   "outputs": [
    {
     "name": "stdout",
     "output_type": "stream",
     "text": [
      "\n",
      "Value = 0.10866227820675686\n"
     ]
    }
   ],
   "source": [
    "dietmodel = grb.Model()\n",
    "varq_j = dietmodel.addMVar(nbj)\n",
    "dietmodel.Params.OutputFlag = 0\n",
    "dietmodel.setObjective(varq_j.sum(), grb.GRB.MINIMIZE)\n",
    "c = dietmodel.addConstr(N_i_j @ varq_j >= d_i)\n",
    "dietmodel.optimize()\n",
    "q_j , π_i, val = dietmodel.getAttr('X') , dietmodel.getAttr('pi'), dietmodel.getAttr('objVal')\n",
    "print('\\nValue =',val)"
   ]
  },
  {
   "cell_type": "markdown",
   "metadata": {
    "id": "F1oViAlTlClx"
   },
   "source": [
    "\n",
    "## Details on Newton's method\n",
    "\n",
    "We perform Newton's method from our current iterate $(x,y,s)$ on the function\n",
    "\n",
    "\\begin{equation}\n",
    "  F(x, y, s) = \\begin{pmatrix}\n",
    "    A x - b \\\\\n",
    "    A^\\top y - s \\\\\n",
    "    \\text{diag}(s) ~ x - \\theta ~ 1_n\n",
    "  \\end{pmatrix}.\n",
    "\\end{equation}\n",
    "\n",
    "The Newton step $(\\Delta x, \\Delta y, \\Delta s)$ is defined by\n",
    "\n",
    "$\\text J F(x,y,s) ~\n",
    "\\begin{pmatrix} \\Delta x \\\\ \\Delta y \\\\ \\Delta s \\end{pmatrix} = - F(x,y,s)$.\n",
    "\n",
    "where $\\text J F(x,y,s)$ is the Jacobian of $F$. It is a square matrix of dimension $2n+m$, equal to\n",
    "\n",
    "$\\text J F(x,y,s) =\n",
    "\\begin{pmatrix}\\\n",
    "A & 0_{m \\times m} & 0_{m \\times n} \\\\\n",
    "0_{n \\times n} & A^\\top & - \\text I_n \\\\\n",
    "\\text{diag}(s) & 0_{n \\times m} & \\text{diag}(x)\n",
    "\\end{pmatrix}$\n",
    "\n",
    "Therefore\n",
    "\n",
    "$\\text J F(x,y,s) \\begin{pmatrix} \\Delta x \\\\ \\Delta y \\\\ \\Delta s \\end{pmatrix} =\n",
    "\\begin{pmatrix}\n",
    "A \\Delta x \\\\\n",
    "A^\\top \\Delta y - \\Delta s \\\\\n",
    "\\text{diag}(s) \\Delta x + \\text{diag}(x) \\Delta s\n",
    "\\end{pmatrix}$.\n",
    "\n",
    "Furthermore, since our current iterate $(x,y,s)$ is primal- and dual-feasible,\n",
    "\n",
    "$F(x, y, s) = \\begin{pmatrix}\n",
    "    0 \\\\\n",
    "    0 \\\\\n",
    "    \\text{diag}(s) ~ x - \\theta 1_n\n",
    "  \\end{pmatrix}$\n",
    "\n",
    "Therefore our Newton step is equivalent to solving the linear system\n",
    "\n",
    "\\begin{cases}\n",
    "A \\Delta x = 0 \\\\\n",
    "A^\\top \\Delta y - \\Delta s = 0 \\\\\n",
    "\\text{diag}(s) ~ x + \\text{diag}(s) \\Delta x + \\text{diag}(x) \\Delta s = \\theta 1_n.\n",
    "\\end{cases}\n",
    "\n",
    "This is exactly the approximated system that we obtained above by removing the non-linear term."
   ]
  }
 ],
 "metadata": {
  "colab": {
   "provenance": []
  },
  "kernelspec": {
   "display_name": "Python 3 (ipykernel)",
   "language": "python",
   "name": "python3"
  },
  "language_info": {
   "codemirror_mode": {
    "name": "ipython",
    "version": 3
   },
   "file_extension": ".py",
   "mimetype": "text/x-python",
   "name": "python",
   "nbconvert_exporter": "python",
   "pygments_lexer": "ipython3",
   "version": "3.10.9"
  }
 },
 "nbformat": 4,
 "nbformat_minor": 1
}
