{
 "cells": [
  {
   "cell_type": "markdown",
   "metadata": {
    "id": "btS1bfjiNb7F"
   },
   "source": [
    "# <center>Column generation methods</center>\n",
    "### <center>Alfred Galichon (NYU & Sciences Po)</center>\n",
    "## <center>'math+econ+code' masterclass series</center>\n",
    "#### <center>With python code examples</center>\n",
    "© 2018–2023 by Alfred Galichon. Past and present support from NSF grant DMS-1716489, ERC grant CoG-866274 are acknowledged, as well as inputs from contributors listed [here](http://www.math-econ-code.org/team).\n",
    "\n",
    "**If you reuse material from this masterclass, please cite as:**<br>\n",
    "Alfred Galichon, 'math+econ+code' masterclass series. https://www.math-econ-code.org/"
   ]
  },
  {
   "cell_type": "markdown",
   "metadata": {
    "id": "v59RjxfwP1iC"
   },
   "source": [
    "# The cutting stock problem\n",
    "\n",
    "\n",
    "A paper maker produces raw rolls of width $W$. There are $N$ raw rolls. \n",
    "\n",
    "Customers are placing a number $q_i$ of orders of type $i \\in \\{1,...,I\\}$. In order $i$, length $w_i$ is demanded.\n",
    "\n",
    "\n",
    "A configuration $j \\in \\{1,...,J\\}$ is a way to cut a raw roll into final ones. \n",
    "\n",
    "\n",
    "That is, a configuration $j$ specifies $a_{ij}$ which is the number of times in which order $i$ appears in configuration $j$.\n",
    "\n",
    "$c_j$ is the cost associated with configuration $j$. Often, it is just one, so in the sequel we shall assume<br>\n",
    "$c_j = 1$ for all $j$,<br>\n",
    "i.e. we want to minimize the number of raw rolls.\n",
    "\n",
    "Let $x_j$ be the number of configurations $j$ used.\n",
    "\n",
    "The program is<br>\n",
    "$\\min_{x_j \\geq 0} \\sum_j x_j c_j$<br>\n",
    "s.t. $\\sum_j a_{ij} x_j = q_i$<br>\n",
    "$x_j$ integer.\n",
    "\n",
    "This problem is a difficult problem, but we shall study its linear programming relaxation."
   ]
  },
  {
   "cell_type": "markdown",
   "metadata": {},
   "source": [
    "## Linear programming relaxation\n",
    "\n",
    "\n",
    "We will consider the linear programming relaxation, i.e. drop the integrality constraint on $x_j$. The relaxed program is then:\\\n",
    "$\\min_{x_j \\geq 0} \\sum_j x_j c_j$<br>\n",
    "s.t. $\\sum_j a_{ij} x_j = q_i$.\n",
    "\n",
    "Even though the problem is a linear programming one, it is still difficult because the matrix $A=(a_{ij})$ has many rows, and therefore $J>>I$. "
   ]
  },
  {
   "cell_type": "markdown",
   "metadata": {},
   "source": [
    "Let's take an example (taken from Wikipedia):"
   ]
  },
  {
   "cell_type": "code",
   "execution_count": 1,
   "metadata": {},
   "outputs": [],
   "source": [
    "import numpy as np\n",
    "w_i = np.array([1380, 1520, 1560, 1710, 1820, 1880, 1930, 2000, 2050, 2100, 2140, 2150, 2200])\n",
    "q_i = np.array([22,25,12,14,18,18,20,10,12,14,16,18,20])\n",
    "W = 5600\n",
    "nbi = len(w_i)"
   ]
  },
  {
   "cell_type": "markdown",
   "metadata": {},
   "source": [
    "Let us give a first example of a configuration $(a^{ex1}_i)$ with one order $i=0$, one $i=1$, and one $i=2$, and let's test its feasibility:"
   ]
  },
  {
   "cell_type": "code",
   "execution_count": 2,
   "metadata": {},
   "outputs": [
    {
     "name": "stdout",
     "output_type": "stream",
     "text": [
      "aex1_i [1 1 1 0 0 0 0 0 0 0 0 0 0]\n",
      "Feasible\n"
     ]
    }
   ],
   "source": [
    "aex1_i = np.array([1,1,1]+[0]*(nbi-3))\n",
    "print('aex1_i',aex1_i)\n",
    "print(\"Feasible\" if aex1_i @ w_i <= W else \"Not Feasible\")"
   ]
  },
  {
   "cell_type": "markdown",
   "metadata": {},
   "source": [
    "We are going to keep track of a base $j\\in B$ of configurations $A_{ij}$, where $A_{ij}$ is the quantity of order $i$ in configuration $j$.\n",
    "\n",
    "Our intial feasible basis will consist in taking patterns that produce only one type of final rolls, that is for $j\\in\\{1,...,J\\}$, $a_{jj} = \\lfloor W / w_j \\rfloor$ and $a_{jk}=0$ for $k\\neq j$.<br>\n",
    "The basic solution is then $x^{sol} = A^{-1} w$, that is<br>\n",
    "$x^{sol}_j=q_j / \\lfloor W / w_j \\rfloor$ for $j\\in\\{1,...,J\\}$."
   ]
  },
  {
   "cell_type": "code",
   "execution_count": 3,
   "metadata": {},
   "outputs": [
    {
     "data": {
      "text/plain": [
       "array([ 5.5       ,  8.33333333,  4.        ,  4.66666667,  6.        ,\n",
       "        9.        , 10.        ,  5.        ,  6.        ,  7.        ,\n",
       "        8.        ,  9.        , 10.        ])"
      ]
     },
     "execution_count": 3,
     "metadata": {},
     "output_type": "execute_result"
    }
   ],
   "source": [
    "A_i_j = np.diag( W // w_i)\n",
    "xsol_j = np.linalg.solve(A_i_j,q_i)\n",
    "xsol_j"
   ]
  },
  {
   "cell_type": "markdown",
   "metadata": {},
   "source": [
    "The associated objective value is $\\sum_j x^{sol}_j$, that is:"
   ]
  },
  {
   "cell_type": "code",
   "execution_count": 4,
   "metadata": {},
   "outputs": [
    {
     "data": {
      "text/plain": [
       "92.5"
      ]
     },
     "execution_count": 4,
     "metadata": {},
     "output_type": "execute_result"
    }
   ],
   "source": [
    "xsol_j.sum()"
   ]
  },
  {
   "cell_type": "markdown",
   "metadata": {},
   "source": [
    "Now let's go back to our example configuration `aex_i` and let's check if we are making a saving by introducing it in order to replace vectors of the base.\n",
    "\n",
    "If we introduce one unit of the example configuration, we need to remove $z_j$ of each of the basic configurations $j\\in B$, where<br>\n",
    "$a^{ex1}_i = \\sum_{j\\in B} A_{ij} z_j$.\n",
    "\n",
    "This can be expressed as<br>\n",
    "$a^{ex1} = A z,$<br>\n",
    "so we have<br>\n",
    "$z = A^{-1} a^{ex1}.$\n",
    "\n",
    "The impact on the cost is $1-\\sum_j z_j=1 - 1_I^\\top A^{-1} a^{ex1} = 1 - k^\\top a^{ex1}$<br>\n",
    "where<br>\n",
    "$k= (A^{-1})^\\top 1_I$.\n",
    "\n",
    "We let:"
   ]
  },
  {
   "cell_type": "code",
   "execution_count": 5,
   "metadata": {},
   "outputs": [],
   "source": [
    "k_i = np.linalg.solve(A_i_j.T,np.ones(nbi))"
   ]
  },
  {
   "cell_type": "markdown",
   "metadata": {},
   "source": [
    "In the case of our example, we have:"
   ]
  },
  {
   "cell_type": "code",
   "execution_count": 6,
   "metadata": {},
   "outputs": [
    {
     "data": {
      "text/plain": [
       "0.08333333333333348"
      ]
     },
     "execution_count": 6,
     "metadata": {},
     "output_type": "execute_result"
    }
   ],
   "source": [
    "1 - k_i.dot(aex1_i)"
   ]
  },
  {
   "cell_type": "markdown",
   "metadata": {},
   "source": [
    "This means that introducing this configuration would add to the cost. But are there configurations that decrease the cost?"
   ]
  },
  {
   "cell_type": "markdown",
   "metadata": {},
   "source": [
    "In order to look for a configuration that decreases the cost, we need to compute:<br>\n",
    "$\\max_a \\sum_{i \\in I} k_i a_i$<br>\n",
    "s.t. $\\sum_{i\\in I} a_i w_i \\leq W$<br>\n",
    "$a_i$ integer.<br>\n",
    "This is called the *knapsack problem*.\n"
   ]
  },
  {
   "cell_type": "markdown",
   "metadata": {},
   "source": [
    "## The knapsack problem\n",
    "\n",
    "Let $F(i,v)$ be the value of the above problem where $W$ is replaced by $v$ and $I$ by $\\{1,...,i\\}$.  We have the following dynamic programming principle:<br>\n",
    "$F(i+1,v) = max_a\\{k_{i+1}a+F(i,v-w_{i+1}a) : a \\in \\{ 0,..., \\lfloor v / w_{i+1} \\rfloor \\} \\}$<br>\n",
    "which is initialized by<br>\n",
    "$F(1,v) =  \\lfloor v / w_{1} \\rfloor max(k_1,0)$."
   ]
  },
  {
   "cell_type": "code",
   "execution_count": 7,
   "metadata": {},
   "outputs": [],
   "source": [
    "def knapsack(k_i,W):\n",
    "    nbi=len(k_i)\n",
    "    F = np.zeros( (nbi,W+1))\n",
    "    A = np.zeros( (nbi,W+1),dtype = int)\n",
    "    A[0,:]=np.array([(v // w_i[0])  for v in range(W+1)])\n",
    "    F[0,:]=np.array([(v // w_i[0])* max(k_i[0],0)  for v in range(W+1)])\n",
    "    for i in range(nbi-1):\n",
    "        for v in range(W+1):\n",
    "            thedic = {a: k_i[i+1]*a +F[i,v-a*w_i[i+1]] for a in range( (v// w_i[i+1])+1 )}\n",
    "            A[i+1,v] = max(thedic, key = thedic.get)\n",
    "            F[i+1,v] = thedic[A[i+1,v]]\n",
    "    v = W\n",
    "    a_i = np.zeros(nbi)\n",
    "    for i in reversed(range(nbi)):\n",
    "        a_i[i] = A[i,v]\n",
    "        v = v-A[i,v]*w_i[i]\n",
    "    return(a_i)\n",
    "    "
   ]
  },
  {
   "cell_type": "markdown",
   "metadata": {},
   "source": [
    "We compute a candidate entering column $a^{ent}_i$. We check that the candidate entering configuration is indeed feasible, and we check that the candidate entering configuration $a^{ent}$ indeed improves on the cost."
   ]
  },
  {
   "cell_type": "code",
   "execution_count": 8,
   "metadata": {},
   "outputs": [
    {
     "name": "stdout",
     "output_type": "stream",
     "text": [
      "aent_i= [0. 1. 0. 0. 0. 2. 0. 0. 0. 0. 0. 0. 0.]\n",
      "Feasible\n",
      "Improving\n"
     ]
    }
   ],
   "source": [
    "aent_i=knapsack(k_i,W)\n",
    "print('aent_i=',aent_i)\n",
    "print(\"Feasible\" if aent_i @ w_i <= W else \"Not Feasible\")\n",
    "print(\"Improving\" if 1 < k_i.dot(aent_i) else \"Not improving\")"
   ]
  },
  {
   "cell_type": "markdown",
   "metadata": {},
   "source": [
    "\n",
    "If we introduce one unit of the new  configuration, we need to remove $z_j$ of each of the basic configurations $j\\in B$, where<br>\n",
    "$a^{ent}_i = \\sum_{j\\in B} A_{ij} z^{ent}_j$<br>\n",
    "so we have<br>\n",
    "$z^{ent} = A^{-1} a^{ent}.$\n",
    "\n",
    "We look for $\\epsilon$ such that<br>\n",
    "$\\sum_{j \\in B} A_{ij}(x_j - \\epsilon z^{ent}_j)+\\epsilon a^{ent}_i$<br>\n",
    "has one zero term (which defines the $j$ leaving the basis).<br>\n",
    "This leads us to determine<br>\n",
    "$\\epsilon = min\\{ x_j / z_j : z_j >0 \\}$."
   ]
  },
  {
   "cell_type": "code",
   "execution_count": 9,
   "metadata": {},
   "outputs": [
    {
     "data": {
      "text/plain": [
       "9.0"
      ]
     },
     "execution_count": 9,
     "metadata": {},
     "output_type": "execute_result"
    }
   ],
   "source": [
    "zent_j = np.linalg.solve(A_i_j,aent_i)\n",
    "thedic = {j: xsol_j[j] / zent_j[j] for j in range(nbi) if zent_j[j]>0}\n",
    "jexit = min(thedic, key = thedic.get)\n",
    "epsilon = thedic[jexit]\n",
    "epsilon"
   ]
  },
  {
   "cell_type": "markdown",
   "metadata": {},
   "source": [
    "We update the feasible solution and the basis accordingly:"
   ]
  },
  {
   "cell_type": "code",
   "execution_count": 10,
   "metadata": {},
   "outputs": [
    {
     "name": "stdout",
     "output_type": "stream",
     "text": [
      "[ 5.5         5.33333333  4.          4.66666667  6.          9.\n",
      " 10.          5.          6.          7.          8.          9.\n",
      " 10.        ]\n"
     ]
    }
   ],
   "source": [
    "xsol_j = xsol_j - epsilon * zent_j\n",
    "xsol_j[jexit] = epsilon\n",
    "print(xsol_j)\n",
    "A_i_j[:,jexit] = aent_i"
   ]
  },
  {
   "cell_type": "markdown",
   "metadata": {},
   "source": [
    "We check that the new solution is indeed feasible:"
   ]
  },
  {
   "cell_type": "code",
   "execution_count": 11,
   "metadata": {
    "scrolled": true
   },
   "outputs": [
    {
     "name": "stdout",
     "output_type": "stream",
     "text": [
      "xsol_j=\n",
      " [ 5.5         5.33333333  4.          4.66666667  6.          9.\n",
      " 10.          5.          6.          7.          8.          9.\n",
      " 10.        ]\n",
      "\n",
      "slackness= [0. 0. 0. 0. 0. 0. 0. 0. 0. 0. 0. 0. 0.]\n"
     ]
    }
   ],
   "source": [
    "print('xsol_j=\\n',xsol_j)\n",
    "print('\\nslackness=',A_i_j @ xsol_j - q_i)"
   ]
  },
  {
   "cell_type": "markdown",
   "metadata": {},
   "source": [
    "The revised objective value is now:"
   ]
  },
  {
   "cell_type": "code",
   "execution_count": 12,
   "metadata": {},
   "outputs": [
    {
     "data": {
      "text/plain": [
       "89.5"
      ]
     },
     "execution_count": 12,
     "metadata": {},
     "output_type": "execute_result"
    }
   ],
   "source": [
    "xsol_j.sum()"
   ]
  },
  {
   "cell_type": "markdown",
   "metadata": {},
   "source": [
    "## The column generation algorithm\n",
    "\n",
    "We iterate the previous process and we get:"
   ]
  },
  {
   "cell_type": "code",
   "execution_count": 13,
   "metadata": {},
   "outputs": [
    {
     "name": "stdout",
     "output_type": "stream",
     "text": [
      "Obj= 92.5\n",
      "Obj= 89.5\n",
      "Obj= 86.16666666666667\n",
      "Obj= 84.5\n",
      "Obj= 83.0\n",
      "Obj= 81.25\n",
      "Obj= 80.91666666666667\n",
      "Obj= 79.58333333333334\n",
      "Obj= 78.58333333333334\n",
      "Obj= 78.25\n",
      "Obj= 77.91666666666667\n",
      "Obj= 77.25\n",
      "Obj= 76.75\n",
      "Obj= 76.375\n",
      "Obj= 76.05\n",
      "Obj= 75.6309523809524\n",
      "Obj= 75.33333333333333\n",
      "Obj= 74.5\n",
      "Obj= 74.16666666666667\n",
      "Obj= 73.3888888888889\n",
      "Obj= 73.22222222222221\n",
      "Obj= 73.0\n",
      "Obj= 72.98611111111111\n",
      "Obj= 72.97619047619048\n",
      "Obj= 72.9423076923077\n",
      "Obj= 72.92391304347825\n",
      "Obj= 72.91666666666666\n",
      "Obj= 72.91666666666667\n",
      "Converged in 28 steps.\n",
      "Objective=72.91666666666667\n"
     ]
    }
   ],
   "source": [
    "cont = True\n",
    "A_i_j = np.diag( W // w_i)\n",
    "xsol_j = np.linalg.solve(A_i_j,q_i)\n",
    "iter = 0\n",
    "while cont:\n",
    "    iter += 1\n",
    "    print('Obj=',xsol_j.sum())\n",
    "    k_i = np.linalg.solve(A_i_j.T,np.ones(nbi))\n",
    "    aent_i=knapsack(k_i,W)\n",
    "    if 1 >= k_i.dot(aent_i):\n",
    "        cont=False\n",
    "    else:\n",
    "        zent_j = np.linalg.solve(A_i_j,aent_i)\n",
    "        thedic = {j: xsol_j[j] / zent_j[j] for j in range(nbi) if zent_j[j]>0}\n",
    "        jexit = min(thedic, key = thedic.get)\n",
    "        epsilon = thedic[jexit]\n",
    "        xsol_j = xsol_j - epsilon * zent_j\n",
    "        xsol_j[jexit] = epsilon\n",
    "        A_i_j[:,jexit] = aent_i\n",
    "        \n",
    "print( \"Converged in \"+str(iter)+\" steps.\\nObjective=\"+str(xsol_j.sum()))\n",
    "    "
   ]
  }
 ],
 "metadata": {
  "colab": {
   "provenance": [],
   "toc_visible": true
  },
  "kernelspec": {
   "display_name": "Python 3 (ipykernel)",
   "language": "python",
   "name": "python3"
  },
  "language_info": {
   "codemirror_mode": {
    "name": "ipython",
    "version": 3
   },
   "file_extension": ".py",
   "mimetype": "text/x-python",
   "name": "python",
   "nbconvert_exporter": "python",
   "pygments_lexer": "ipython3",
   "version": "3.9.12"
  }
 },
 "nbformat": 4,
 "nbformat_minor": 1
}
