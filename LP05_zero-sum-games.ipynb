{
 "cells": [
  {
   "cell_type": "markdown",
   "metadata": {},
   "source": [
    "# <center>Zero-sum games</center>\n",
    "### <center>Alfred Galichon (NYU & Sciences Po)</center>\n",
    "## <center>'math+econ+code' masterclass series</center>\n",
    "#### <center>With python code examples</center>\n",
    "© 2018-2023 by Alfred Galichon. Past and present support from NSF grant DMS-1716489, ERC grant CoG-866274 are acknowledged, as well as inputs from contributors listed [here](http://www.math-econ-code.org/team).\n",
    "\n",
    "**If you reuse material from this masterclass, please cite as:**<br>\n",
    "Alfred Galichon, 'math+econ+code' masterclass series. https://www.math-econ-code.org/"
   ]
  },
  {
   "cell_type": "markdown",
   "metadata": {},
   "source": [
    "## Reference\n",
    "\n",
    "* Palacios-Huerta (2003). Professionals play minimax. The Review of Economic Studies."
   ]
  },
  {
   "cell_type": "markdown",
   "metadata": {},
   "source": [
    "## Loading the data"
   ]
  },
  {
   "cell_type": "markdown",
   "metadata": {},
   "source": [
    "The following data is taken from Palacios-Huerta (2003). Player 1 (kicker) takes action $i \\in \\{L,C, R \\}$, and so does Player 2. The following table indicates the probability of a score as a matrix $\\Phi_{ij}$ if Player 1 plays $i$ and Player 2 plays $j$."
   ]
  },
  {
   "cell_type": "code",
   "execution_count": 1,
   "metadata": {},
   "outputs": [
    {
     "data": {
      "text/plain": [
       "array([[ 50. , 100. ,  93.8],\n",
       "       [ 93.9,  60. ,  82.8],\n",
       "       [ 97.6, 100. ,  73.2]])"
      ]
     },
     "execution_count": 1,
     "metadata": {},
     "output_type": "execute_result"
    }
   ],
   "source": [
    "import numpy as np\n",
    "import gurobipy as grb\n",
    "import scipy.sparse as spr\n",
    "\n",
    "Phi_i_j = np.array([[50, 100, 93.8], \n",
    "                    [93.9, 60.0, 82.8], \n",
    "                    [97.6, 100, 73.2]])\n",
    "Phi_i_j"
   ]
  },
  {
   "cell_type": "markdown",
   "metadata": {},
   "source": [
    "The next table indicates the probability that player 1 takes action $i$ and that player 2 takes action $j$."
   ]
  },
  {
   "cell_type": "code",
   "execution_count": 2,
   "metadata": {},
   "outputs": [
    {
     "data": {
      "text/plain": [
       "array([[0.158, 0.006, 0.225],\n",
       "       [0.032, 0.005, 0.034],\n",
       "       [0.208, 0.006, 0.321]])"
      ]
     },
     "execution_count": 2,
     "metadata": {},
     "output_type": "execute_result"
    }
   ],
   "source": [
    "pi_i_j = np.array([[.158,.006,.225],[.032,.005,.034],[.208,.006,.321]])\n",
    "pi_i_j"
   ]
  },
  {
   "cell_type": "markdown",
   "metadata": {},
   "source": [
    "# The zero-sum game\n",
    "\n",
    "Consider a zero sum game.\n",
    "\n",
    "If player $1$ plays $i\\in I$ and player 2 plays $j\\in J$, then:\n",
    "\n",
    "* Payoff to player 1 is $\\Phi _{ij}$\n",
    "\n",
    "* Payoff to player 2 is $-\\Phi _{ij}$\n",
    "\n",
    "We have $\\Phi _{ij}>0$.\n"
   ]
  },
  {
   "cell_type": "markdown",
   "metadata": {},
   "source": [
    "# Pure strategies\n",
    "\n",
    "If player 1 plays $i$, then player 2's best response is $J(i) = \\arg\\min_j \\Phi_{ij}$.\n",
    "\n",
    "If player 2 plays $j$, then player 1's best response is $I(j) = \\arg\\max_i \\Phi_{ij}$.\n",
    "\n",
    "An equilibrium in pure strategy is a pair $(i^\\star,j^\\star)$ such that<div>\n",
    "$i^\\star=I(j^\\star)$ and $j^\\star=J(i^\\star)$."
   ]
  },
  {
   "cell_type": "code",
   "execution_count": 3,
   "metadata": {},
   "outputs": [],
   "source": [
    "class Matrix_game:\n",
    "    def __init__(self,Phi_i_j):\n",
    "        self.nbi,self.nbj = Phi_i_j.shape\n",
    "        self.Phi_i_j = Phi_i_j\n",
    "\n",
    "thegame = Matrix_game(Phi_i_j)"
   ]
  },
  {
   "cell_type": "code",
   "execution_count": 4,
   "metadata": {},
   "outputs": [],
   "source": [
    "def BRI(self,j):\n",
    "    return np.argwhere(self.Phi_i_j[:,j] == np.max(self.Phi_i_j[:,j])).flatten()\n",
    "\n",
    "def BRJ(self,i):\n",
    "    return np.argwhere(self.Phi_i_j[i,:] == np.min(self.Phi_i_j[i,:])).flatten()\n",
    "\n",
    "Matrix_game.BRI = BRI\n",
    "Matrix_game.BRJ = BRJ\n"
   ]
  },
  {
   "cell_type": "code",
   "execution_count": 5,
   "metadata": {
    "scrolled": true
   },
   "outputs": [
    {
     "data": {
      "text/plain": [
       "(array([0, 2], dtype=int64), array([0], dtype=int64))"
      ]
     },
     "execution_count": 5,
     "metadata": {},
     "output_type": "execute_result"
    }
   ],
   "source": [
    "thegame.BRI(1) ,thegame.BRJ(0) "
   ]
  },
  {
   "cell_type": "markdown",
   "metadata": {},
   "source": [
    "Look for an equilibrium in pure strategy:"
   ]
  },
  {
   "cell_type": "code",
   "execution_count": 6,
   "metadata": {},
   "outputs": [
    {
     "data": {
      "text/plain": [
       "[]"
      ]
     },
     "execution_count": 6,
     "metadata": {},
     "output_type": "execute_result"
    }
   ],
   "source": [
    "def compute_eq(self):\n",
    "    return [ (i,j) for i in range(self.nbi) for j in range(self.nbj)\n",
    "            if ( (i in self.BRI(j) ) and (j in self.BRJ(i) ) ) ]\n",
    "Matrix_game.compute_eq = compute_eq\n",
    "\n",
    "thegame.compute_eq()"
   ]
  },
  {
   "cell_type": "markdown",
   "metadata": {},
   "source": [
    "We see that in this game, there is no equilibrium in pure strategy. In fact, it is possible to show that a game has an equilibrium in pure strategy if there is no advantage in playing first in the sequential version of the game, i.e. the value of the game is the same regardless of whether player 1 plays first or second. Clearly, this is not the case here: if the kicker plays first, then the goalkeeper can move to where the kicker kicked in order to decrease the probability of a goal. If the goalkeeper plays first, then the kicker can kick where the goalkeeper did not move."
   ]
  },
  {
   "cell_type": "markdown",
   "metadata": {},
   "source": [
    "# Mixed strategies\n",
    "\n",
    "\n",
    "Assume player 1 plays mixed strategy $\\left( p_{i}\\right) \\in \\Delta _{I}$,\n",
    "and player 2 plays mixed strategy $\\left( q_{j}\\right) \\in \\Delta _{J}$. Then\n",
    "\n",
    "* Expected payoff to player 1 is $\\sum_{ij}p_{i}q_{j}\\Phi _{ij}=p^{\\top }\\Phi\n",
    "q $\n",
    "\n",
    "* Payoff to player 2 is minus the former\n",
    "\n",
    "If player 1 plays mixed strategy $p$, then player 2's best response is $Q(p) = \\arg\\min_{q \\in \\Delta_J} p^{\\top }\\Phi\n",
    "q$.\n",
    "\n",
    "If player 2 plays mixed strategy $q$, then player 1's best response is $P(q) = \\arg\\max_{p \\in \\Delta_I} p^{\\top }\\Phi\n",
    "q$.\n",
    "\n",
    "An equilibrium in pure strategy is a pair $(p^\\star,q^\\star)$ such that<div>\n",
    "$p^\\star=P(q^\\star)$ and $q^\\star=Q(p^\\star)$.\n"
   ]
  },
  {
   "cell_type": "markdown",
   "metadata": {},
   "source": [
    "# Equilibrium as a linear programming problem\n",
    "\n",
    "Therefore at equilibrium, $p$ and $q$ are played so that \n",
    "\\begin{equation*}\n",
    "\\max_{p\\in \\Delta _{I}}\\min_{q\\in \\Delta _{J}}p^{\\top }\\Phi q\n",
    "\\end{equation*}\n",
    "In general, we have \n",
    "\\begin{equation*}\n",
    "\\max_{p\\in \\Delta _{I}}\\min_{q\\in \\Delta _{J}}p^{\\top }\\Phi q\\leq \\min_{q\\in\n",
    "\\Delta _{J}}\\max_{p\\in \\Delta _{I}}p^{\\top }\\Phi q\n",
    "\\end{equation*}\n",
    "but here we have in fact equality, so \n",
    "\\begin{equation*}\n",
    "\\max_{p\\in \\Delta _{I}}\\min_{q\\in \\Delta _{J}}p^{\\top }\\Phi q=\\min_{q\\in\n",
    "\\Delta _{J}}\\max_{p\\in \\Delta _{I}}p^{\\top }\\Phi q.\n",
    "\\end{equation*}\n",
    "\n",
    "Consider the problem of \n",
    "\\begin{equation*}\n",
    "\\max_{p\\in \\Delta _{I}}\\min_{q\\in \\Delta _{J}}p^{\\top }\\Phi q\n",
    "\\end{equation*}"
   ]
  },
  {
   "cell_type": "markdown",
   "metadata": {},
   "source": [
    "Let us focus on the problem of player 2 if player 2 anticipates that player\n",
    "1 will play $p$. This is \n",
    "\\begin{eqnarray*}\n",
    "\\min_{q\\in \\Delta _{J}}p^{\\top }\\Phi q &=&\\min_{q\\in \\Delta _{J}}\\sum_{j\\in\n",
    "J}q_{j}\\underset{U_{j}}{\\underbrace{\\left( \\sum_{i}\\Phi _{ij}p_{i}\\right) }}\n",
    "\\\\\n",
    "&=&\\min_{j\\in J}\\left\\{ U_{j}\\right\\} \\\\\n",
    "&=&\\min_{j\\in J}\\left\\{ \\sum_{i}\\Phi _{ij}p_{i}\\right\\}\n",
    "\\end{eqnarray*}\n"
   ]
  },
  {
   "cell_type": "markdown",
   "metadata": {},
   "source": [
    "Recall that player 1 wants to \n",
    "\\begin{equation*}\n",
    "\\max_{p\\in \\Delta _{I},U}\\left\\{ U:U=\\min_{j\\in J}\\left\\{ \\sum_{i}\\Phi\n",
    "_{ij}p_{i}\\right\\} \\right\\}\n",
    "\\end{equation*}\n",
    "but this is equivalent with \n",
    "\\begin{equation*}\n",
    "\\max_{p\\in \\Delta _{I},U}\\left\\{ U:U\\leq \\min_{j\\in J}\\left\\{ \\sum_{i}\\Phi\n",
    "_{ij}p_{i}\\right\\} \\right\\}\n",
    "\\end{equation*}\n",
    "\n",
    "Thus the program of player 1 is \n",
    "\\begin{equation*}\n",
    "\\max_{p\\in \\Delta _{I},U}\\left\\{ U:U\\leq \\sum_{i}\\Phi _{ij}p_{i}\\text{ for\n",
    "all }j\\right\\}\n",
    "\\end{equation*}\n",
    "that is\n",
    "\\begin{eqnarray*}\n",
    "V_{1}=\\max_{p_{i}\\geq 0,U} &&U \\\\\n",
    "s.t.~ &&U\\leq \\sum_{i}\\Phi _{ij}p_{i}\\text{ for all }j \\\\\n",
    "&&\\sum_{i}p_{i}=1\n",
    "\\end{eqnarray*}\n"
   ]
  },
  {
   "cell_type": "markdown",
   "metadata": {},
   "source": [
    "Introduce $x_{i}=p_{i}/U$. We can reformulate the previous problem after setting \n",
    "$p_{i}=x_{i}U$ by\n",
    "\\begin{eqnarray*}\n",
    "V_{1}=\\max_{x_{i}\\geq 0,U} &&U \\\\\n",
    "s.t.~ &&U\\leq \\sum_{i}\\Phi _{ij}x_{i}U\\text{ for all }j \\\\\n",
    "&&\\sum_{i}x_{i}U=1\n",
    "\\end{eqnarray*}\n",
    "which simplifies into\n",
    "\\begin{eqnarray*}\n",
    "V_{1}=\\max_{x_{i}\\geq 0,U} &&U \\\\\n",
    "s.t.~ &&1\\leq \\sum_{i}\\Phi _{ij}x_{i}\\text{ for all }j \\\\\n",
    "&&U=\\frac{1}{\\sum_{i}x_{i}}\n",
    "\\end{eqnarray*}\n",
    "therefore\n",
    "\\begin{eqnarray*}\n",
    "V_{1}=\\max_{x_{i}\\geq 0} &&\\frac{1}{\\sum_{i}x_{i}} \\\\\n",
    "s.t.~ &&1\\leq \\sum_{i}\\Phi _{ij}x_{i}\\text{ for all }j\n",
    "\\end{eqnarray*}\n",
    "that is\n",
    "\\begin{eqnarray*}\n",
    "\\frac{1}{V_{1}}=\\min_{x_{i}\\geq 0} &&\\sum_{i}x_{i} \\\\\n",
    "s.t.~ &&\\sum_{i}\\Phi _{ij}x_{i}\\geq 1\\text{ for all }j~\\left[ y_{j}\\geq 0%\n",
    "\\right]\n",
    "\\end{eqnarray*}\n",
    "\n",
    "Recall that $x_{i}=p_{i}/U$ and $U=\\frac{1}{\\sum_{i}x_{i}}$.\n",
    "\n",
    "Therefore\n",
    "\\begin{equation*}\n",
    "p_{i}=x_{i}U=\\frac{x_{i}}{\\sum_{i}x_{i}}\n",
    "\\end{equation*}\n",
    "\n"
   ]
  },
  {
   "cell_type": "markdown",
   "metadata": {},
   "source": [
    "## Player 2's problem\n",
    "\n",
    "Consider the problem of \n",
    "\\begin{equation*}\n",
    "\\min_{q\\in \\Delta _{J}}\\max_{p\\in \\Delta _{I}}p^{\\top }\\Phi q\n",
    "\\end{equation*}\n",
    "If player 1 anticipates that player 2 will play $q$, then she does \n",
    "\\begin{equation*}\n",
    "\\max_{p\\in \\Delta _{I}}p^{\\top }\\Phi q=\\max_{i\\in I}\\left\\{ \\sum_{j}\\Phi\n",
    "_{ij}q_{j}\\right\\}\n",
    "\\end{equation*}\n",
    "\n",
    "Recall that player 2 wants to \n",
    "\\begin{equation*}\n",
    "\\min_{q\\in \\Delta _{J},V}\\left\\{ V:V\\geq \\max_{i\\in I}\\left\\{ \\sum_{j}\\Phi\n",
    "_{ij}q_{j}\\right\\} \\right\\}\n",
    "\\end{equation*}\n",
    "but this is equivalent with \n",
    "\\begin{equation*}\n",
    "\\min_{q\\in \\Delta _{J},V}\\left\\{ V:V\\geq \\sum_{j}\\Phi _{ij}q_{j}\\right\\}\n",
    "\\end{equation*}\n",
    "that\n",
    "\\begin{eqnarray*}\n",
    "V_{2}=\\min_{q_{j}\\geq 0,V} &&V \\\\\n",
    "s.t.~ &&V\\geq \\sum_{j}\\Phi _{ij}q_{j}\\text{ for all }i \\\\\n",
    "&&\\sum_{j}q_{j}=1\n",
    "\\end{eqnarray*}"
   ]
  },
  {
   "cell_type": "markdown",
   "metadata": {},
   "source": [
    "\n",
    "Introduce $y_{j}=q_{j}/V$. We can reformulate the previous problem as $\n",
    "q_{j}=y_{j}V$ \n",
    "\\begin{eqnarray*}\n",
    "V_{2}=\\min_{q_{j}\\geq 0} &&\\frac{1}{\\sum_{j}y_{j}} \\\\\n",
    "s.t.~ &&1\\geq \\sum_{j}\\Phi _{ij}y_{j}\\text{ for all }i\n",
    "\\end{eqnarray*}\n",
    "that is\n",
    "\\begin{eqnarray*}\n",
    "\\frac{1}{V_{2}}=\\max_{q_{j}\\geq 0} &&\\sum_{j}y_{j} \\\\\n",
    "s.t.~ &&1\\geq \\sum_{j}\\Phi _{ij}y_{j}\\text{ for all }i\n",
    "\\end{eqnarray*}\n",
    "\n",
    "We have \n",
    "\\begin{eqnarray*}\n",
    "q_{j} &=&y_{j}V=\\frac{y_{j}}{\\sum_{j}y_{j}} \\\\\n",
    "V &=&\\frac{1}{\\sum_{j}y_{j}}\n",
    "\\end{eqnarray*}\n"
   ]
  },
  {
   "cell_type": "markdown",
   "metadata": {},
   "source": [
    "# Computing the mixed strategy equilibrium using linear programming"
   ]
  },
  {
   "cell_type": "code",
   "execution_count": 7,
   "metadata": {},
   "outputs": [],
   "source": [
    "def minimax_LP(self):\n",
    "    model=grb.Model()\n",
    "    model.Params.OutputFlag = 0\n",
    "    y = model.addMVar(shape=self.nbj)\n",
    "    model.setObjective(np.ones(self.nbj) @ y, grb.GRB.MAXIMIZE)\n",
    "    model.addConstr(self.Phi_i_j @ y <= np.ones(self.nbi))\n",
    "    model.optimize() \n",
    "    ystar = np.array(model.getAttr('x'))\n",
    "    xstar = np.array(model.getAttr('pi'))\n",
    "    S = 1 /  xstar.sum()\n",
    "    p_i = S * xstar\n",
    "    q_j = S * ystar\n",
    "    return(p_i,q_j)\n",
    "\n",
    "Matrix_game.minimax_LP = minimax_LP"
   ]
  },
  {
   "cell_type": "code",
   "execution_count": 8,
   "metadata": {},
   "outputs": [
    {
     "name": "stdout",
     "output_type": "stream",
     "text": [
      "Set parameter Username\n",
      "Academic license - for non-commercial use only - expires 2023-12-23\n"
     ]
    },
    {
     "data": {
      "text/plain": [
       "(array([0.27464503, 0.4262563 , 0.29909867]),\n",
       " array([0.26505916, 0.12247406, 0.61246679]))"
      ]
     },
     "execution_count": 8,
     "metadata": {},
     "output_type": "execute_result"
    }
   ],
   "source": [
    "minimax_LP(thegame)"
   ]
  },
  {
   "cell_type": "markdown",
   "metadata": {},
   "source": [
    "## Solution using Chambolle-Pock"
   ]
  },
  {
   "cell_type": "code",
   "execution_count": 9,
   "metadata": {},
   "outputs": [],
   "source": [
    "def minimax_CP(self,gap_threshold = 1e-5,max_iter = 10000):\n",
    "    L1 = np.max(np.abs(self.Phi_i_j))\n",
    "    sigma, tau = 1/L1, 1/L1\n",
    "\n",
    "    p = np.ones(self.nbi) / self.nbi\n",
    "    q = np.ones(self.nbi) / self.nbj\n",
    "    q_prev = q.copy()\n",
    "\n",
    "    gap = np.inf\n",
    "    i=0\n",
    "    while (gap >  gap_threshold) and (i < max_iter):\n",
    "        q_tilde = 2*q - q_prev\n",
    "        p *= np.exp(-sigma* self.Phi_i_j @ q_tilde)\n",
    "        p /= p.sum()\n",
    "\n",
    "        q_prev = q.copy()\n",
    "        q *= np.exp(tau* self.Phi_i_j.T @ p)\n",
    "        q /= q.sum()\n",
    "        gap = np.max(self.Phi_i_j.T@p) - np.min(self.Phi_i_j@q)\n",
    "        i += 1\n",
    "    return(p,q,gap,i)\n",
    "\n",
    "Matrix_game.minimax_CP = minimax_CP\n"
   ]
  },
  {
   "cell_type": "code",
   "execution_count": 10,
   "metadata": {},
   "outputs": [
    {
     "data": {
      "text/plain": [
       "(array([0.274645  , 0.42625731, 0.29909769]),\n",
       " array([0.26505916, 0.1224741 , 0.61246674]))"
      ]
     },
     "execution_count": 10,
     "metadata": {},
     "output_type": "execute_result"
    }
   ],
   "source": [
    "p,q,_,_ = thegame.minimax_CP()\n",
    "p,q"
   ]
  }
 ],
 "metadata": {
  "kernelspec": {
   "display_name": "Python 3 (ipykernel)",
   "language": "python",
   "name": "python3"
  },
  "language_info": {
   "codemirror_mode": {
    "name": "ipython",
    "version": 3
   },
   "file_extension": ".py",
   "mimetype": "text/x-python",
   "name": "python",
   "nbconvert_exporter": "python",
   "pygments_lexer": "ipython3",
   "version": "3.10.9"
  }
 },
 "nbformat": 4,
 "nbformat_minor": 4
}
